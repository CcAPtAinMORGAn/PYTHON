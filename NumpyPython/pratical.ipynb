{
 "cells": [
  {
   "cell_type": "code",
   "execution_count": 90,
   "id": "5448bf1b-83b0-486b-96dc-e8f5b4afcc2d",
   "metadata": {},
   "outputs": [],
   "source": [
    "import numpy as np"
   ]
  },
  {
   "cell_type": "code",
   "execution_count": 91,
   "id": "bbba1d13-a53e-466a-80c9-1098b0f772e4",
   "metadata": {},
   "outputs": [
    {
     "name": "stdout",
     "output_type": "stream",
     "text": [
      "1D Array: [ 1  2  3  4  5  6  7  8  9 10]\n",
      "2D Array:\n",
      " [[1 2 3]\n",
      " [4 5 6]]\n"
     ]
    }
   ],
   "source": [
    "# Creating a 1D array\n",
    "array_1d = np.array([1, 2, 3, 4, 5, 6, 7, 8, 9,10])\n",
    "print(\"1D Array:\", array_1d)\n",
    "\n",
    "# Creating a 2D array (matrix)\n",
    "array_2d = np.array([[1, 2, 3], [4, 5, 6]])\n",
    "print(\"2D Array:\\n\", array_2d)"
   ]
  },
  {
   "cell_type": "code",
   "execution_count": 92,
   "id": "90b9b7dd-221e-4a34-b498-d424211de607",
   "metadata": {},
   "outputs": [
    {
     "name": "stdout",
     "output_type": "stream",
     "text": [
      "Reshaped Array:\n",
      " [[ 1  2]\n",
      " [ 3  4]\n",
      " [ 5  6]\n",
      " [ 7  8]\n",
      " [ 9 10]]\n"
     ]
    }
   ],
   "source": [
    "# Reshaping a 1D array into a 2D array\n",
    "reshaped_array = array_1d.reshape(5,2)\n",
    "print(\"Reshaped Array:\\n\", reshaped_array)"
   ]
  },
  {
   "cell_type": "code",
   "execution_count": 93,
   "id": "832d4d48-9217-4cea-977c-633cf1d8a954",
   "metadata": {},
   "outputs": [
    {
     "name": "stdout",
     "output_type": "stream",
     "text": [
      "Mean: 5.5\n",
      "Median: 5.5\n",
      "Standard Deviation: 2.8722813232690143\n"
     ]
    }
   ],
   "source": [
    "# Mean, Median, and Standard Deviation\n",
    "mean_value = np.mean(array_1d)\n",
    "median_value = np.median(array_1d)\n",
    "std_dev_value = np.std(array_1d)\n",
    "\n",
    "print(\"Mean:\", mean_value)\n",
    "print(\"Median:\", median_value)\n",
    "print(\"Standard Deviation:\", std_dev_value)"
   ]
  },
  {
   "cell_type": "code",
   "execution_count": 94,
   "id": "9f7954f8-2f4f-4a6d-9798-6e0b431a16b2",
   "metadata": {},
   "outputs": [
    {
     "name": "stdout",
     "output_type": "stream",
     "text": [
      "First element of 1D array: 1\n",
      "First row of 2D array: [1 2 3]\n",
      "Slicing 2D array:\n",
      " [[2 3]]\n"
     ]
    }
   ],
   "source": [
    "# Accessing elements\n",
    "print(\"First element of 1D array:\", array_1d[0])\n",
    "print(\"First row of 2D array:\", array_2d[0])\n",
    "print(\"Slicing 2D array:\\n\", array_2d[0:1, 1:3])"
   ]
  },
  {
   "cell_type": "code",
   "execution_count": 95,
   "id": "11c29e13-aa8c-4f9b-bd14-c27da94fd27f",
   "metadata": {},
   "outputs": [
    {
     "name": "stdout",
     "output_type": "stream",
     "text": [
      "1D Array: [1 2 3 4 5]\n",
      "2D Array:\n",
      " [[1 2 3]\n",
      " [4 5 6]]\n",
      "Array after adding 10: [11 12 13 14 15]\n",
      "Array after multiplying by 2: [ 2  4  6  8 10]\n",
      "Matrix after addition:\n",
      " [[2 3 4]\n",
      " [5 6 7]]\n",
      "Reshaped Array:\n",
      " [[1]\n",
      " [2]\n",
      " [3]\n",
      " [4]\n",
      " [5]]\n",
      "Mean: 3.0\n",
      "Median: 3.0\n",
      "Standard Deviation: 1.4142135623730951\n",
      "First element of 1D array: 1\n",
      "First row of 2D array: [1 2 3]\n",
      "Slicing 2D array:\n",
      " [[2 3]]\n"
     ]
    }
   ],
   "source": [
    "import numpy as np\n",
    "\n",
    "# Create arrays\n",
    "array_1d = np.array([1, 2, 3, 4, 5])\n",
    "array_2d = np.array([[1, 2, 3], [4, 5, 6]])\n",
    "\n",
    "# Print arrays\n",
    "print(\"1D Array:\", array_1d)\n",
    "print(\"2D Array:\\n\", array_2d)\n",
    "\n",
    "# Basic operations\n",
    "array_sum = array_1d + 10\n",
    "array_product = array_1d * 2\n",
    "matrix_sum = array_2d + np.array([[1, 1, 1], [1, 1, 1]])\n",
    "\n",
    "print(\"Array after adding 10:\", array_sum)\n",
    "print(\"Array after multiplying by 2:\", array_product)\n",
    "print(\"Matrix after addition:\\n\", matrix_sum)\n",
    "\n",
    "# Reshape and statistical operations\n",
    "reshaped_array = array_1d.reshape(5, 1)\n",
    "mean_value = np.mean(array_1d)\n",
    "median_value = np.median(array_1d)\n",
    "std_dev_value = np.std(array_1d)\n",
    "\n",
    "print(\"Reshaped Array:\\n\", reshaped_array)\n",
    "print(\"Mean:\", mean_value)\n",
    "print(\"Median:\", median_value)\n",
    "print(\"Standard Deviation:\", std_dev_value)\n",
    "\n",
    "# Indexing and slicing\n",
    "print(\"First element of 1D array:\", array_1d[0])\n",
    "print(\"First row of 2D array:\", array_2d[0])\n",
    "print(\"Slicing 2D array:\\n\", array_2d[0:1, 1:3])"
   ]
  },
  {
   "cell_type": "code",
   "execution_count": null,
   "id": "87cdc7b8-a896-4b79-b32c-c8af42f22f0d",
   "metadata": {},
   "outputs": [],
   "source": []
  }
 ],
 "metadata": {
  "kernelspec": {
   "display_name": "Python 3 (ipykernel)",
   "language": "python",
   "name": "python3"
  },
  "language_info": {
   "codemirror_mode": {
    "name": "ipython",
    "version": 3
   },
   "file_extension": ".py",
   "mimetype": "text/x-python",
   "name": "python",
   "nbconvert_exporter": "python",
   "pygments_lexer": "ipython3",
   "version": "3.12.1"
  }
 },
 "nbformat": 4,
 "nbformat_minor": 5
}
