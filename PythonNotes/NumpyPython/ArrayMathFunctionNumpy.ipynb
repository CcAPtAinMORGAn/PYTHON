{
 "cells": [
  {
   "cell_type": "code",
   "execution_count": 9,
   "metadata": {},
   "outputs": [],
   "source": [
    "import numpy as np"
   ]
  },
  {
   "cell_type": "code",
   "execution_count": 11,
   "metadata": {},
   "outputs": [
    {
     "name": "stdout",
     "output_type": "stream",
     "text": [
      "1D Array: [1 2 3 4 5]\n",
      "2D Array:\n",
      " [[1 2 3]\n",
      " [4 5 6]]\n"
     ]
    }
   ],
   "source": [
    "# Create arrays\n",
    "array_1d = np.array([1, 2, 3, 4, 5])\n",
    "array_2d = np.array([[1, 2, 3], [4, 5, 6]])\n",
    "\n",
    "# Print arrays\n",
    "print(\"1D Array:\", array_1d)\n",
    "print(\"2D Array:\\n\", array_2d)"
   ]
  },
  {
   "cell_type": "code",
   "execution_count": 10,
   "metadata": {},
   "outputs": [
    {
     "name": "stdout",
     "output_type": "stream",
     "text": [
      "Array after adding 10: [11 12 13 14 15]\n",
      "Array after multiplying by 2: [ 2  4  6  8 10]\n",
      "Matrix after addition:\n",
      " [[2 3 4]\n",
      " [5 6 7]]\n",
      "Mean: 3.0\n",
      "Median: 3.0\n",
      "Standard Deviation: 1.4142135623730951\n"
     ]
    }
   ],
   "source": [
    "# Mean, Median, and Standard Deviation\n",
    "mean_value = np.mean(array_1d)\n",
    "median_value = np.median(array_1d)\n",
    "std_dev_value = np.std(array_1d)\n",
    "\n",
    "\n",
    "# Basic operations\n",
    "array_sum = array_1d + 10\n",
    "array_product = array_1d * 2\n",
    "matrix_sum = array_2d + np.array([[1, 1, 1], [1, 1, 1]])\n",
    "\n",
    "print(\"Array after adding 10:\", array_sum)\n",
    "print(\"Array after multiplying by 2:\", array_product)\n",
    "print(\"Matrix after addition:\\n\", matrix_sum)\n",
    "\n",
    "\n",
    "print(\"Mean:\", mean_value)\n",
    "print(\"Median:\", median_value)\n",
    "print(\"Standard Deviation:\", std_dev_value)"
   ]
  }
 ],
 "metadata": {
  "kernelspec": {
   "display_name": "Python 3",
   "language": "python",
   "name": "python3"
  },
  "language_info": {
   "codemirror_mode": {
    "name": "ipython",
    "version": 3
   },
   "file_extension": ".py",
   "mimetype": "text/x-python",
   "name": "python",
   "nbconvert_exporter": "python",
   "pygments_lexer": "ipython3",
   "version": "3.12.1"
  }
 },
 "nbformat": 4,
 "nbformat_minor": 2
}
