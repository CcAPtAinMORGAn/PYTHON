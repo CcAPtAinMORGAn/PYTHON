{
 "cells": [
  {
   "cell_type": "code",
   "execution_count": 18,
   "metadata": {},
   "outputs": [],
   "source": [
    "import numpy as np"
   ]
  },
  {
   "cell_type": "code",
   "execution_count": 17,
   "metadata": {},
   "outputs": [
    {
     "name": "stdout",
     "output_type": "stream",
     "text": [
      "1D Array: [ 1  2  3  4  5  6  7  8  9 10]\n",
      "2D Array:\n",
      " [[1 2 3]\n",
      " [4 5 6]]\n"
     ]
    }
   ],
   "source": [
    "# Creating a 1D array\n",
    "array_1d = np.array([1, 2, 3, 4, 5, 6, 7, 8, 9, 10])\n",
    "print(\"1D Array:\", array_1d)\n",
    "\n",
    "# Reshaping a 2D array into a 1D array\n",
    "# Creating a 2D array (matrix)\n",
    "\n",
    "array_2d = np.array([[1, 2, 3], [4, 5, 6]])\n",
    "print(\"2D Array:\\n\", array_2d)"
   ]
  },
  {
   "cell_type": "code",
   "execution_count": 19,
   "metadata": {},
   "outputs": [
    {
     "name": "stdout",
     "output_type": "stream",
     "text": [
      "First element of 1D array: 1\n",
      "First row of 2D array: [1 2 3]\n",
      "Slicing 2D array:\n",
      " [[2 3]]\n"
     ]
    }
   ],
   "source": [
    "# Accessing elements\n",
    "print(\"First element of 1D array:\", array_1d[0])\n",
    "print(\"First row of 2D array:\", array_2d[0])\n",
    "\n",
    "\n",
    "# 2D Array:   [[1 2 3] [4 5 6]]\n",
    "\n",
    "#Here 0:1 range is of row and 1:3 range is of column so the 0th row of array_2d is [1,2,3] \n",
    "#and the 1st column of 0th row is 2 and the 2nd column of 0th row is 3 thus output is [2,3]\n",
    "print(\"Slicing 2D array:\\n\", array_2d[0:1, 1:3])"
   ]
  }
 ],
 "metadata": {
  "kernelspec": {
   "display_name": "Python 3",
   "language": "python",
   "name": "python3"
  },
  "language_info": {
   "codemirror_mode": {
    "name": "ipython",
    "version": 3
   },
   "file_extension": ".py",
   "mimetype": "text/x-python",
   "name": "python",
   "nbconvert_exporter": "python",
   "pygments_lexer": "ipython3",
   "version": "3.12.1"
  }
 },
 "nbformat": 4,
 "nbformat_minor": 2
}
