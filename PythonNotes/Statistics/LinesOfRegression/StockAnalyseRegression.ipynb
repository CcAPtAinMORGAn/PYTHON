import math

# Array of dates as day numbers
# x = [
#     18, 14, 13, 12, 11, 8, 7, 6, 5, 4, 1, 31, 30, 29, 28, 25, 24, 23, 22, 21, 
#     18, 17, 16, 15, 14, 11, 10, 9
# ]

x = [
    18, 14, 13, 12, 11, 8, 7, 6, 5, 4, 1, 31, 30, 29, 28, 25, 24, 23, 22, 21, 
    18, 17
]

# Array of first prices without underscores
# y = [
#     23594, 23542, 23822, 24226, 24087, 24208, 24490, 24309, 23917, 24316,
#     24303, 24350, 24371, 24329, 24251, 24418, 24413, 24378, 24799, 24956, 
#     24665, 25027, 25009, 25186, 25023, 24985, 25067, 25066
# ]

y = [
    23594, 23542, 23822, 24226, 24087, 24208, 24490, 24309, 23917, 24316,
    24303, 24350, 24371, 24329, 24251, 24418, 24413, 24378, 24799, 24956, 
    24665, 25027
]




x_given_value = 7

n=len(x)
# -------------------Mean of array x
a=0
for i in range(n):
   a+=x[i]/n 
# ------------------Mean of array y
b=0
for l in range(n):
   b+=y[l]/n 
# ---------------------------------

Mean_x=round(a)
print("Mean of x array is ",Mean_x)

Mean_y=round(b)
print("Mean of y array is ",Mean_y,"\n\n")


# -------------------------------------- x_Minus_Mean and y_Minus_Mean

x_Minus_Mean=[]
for u in range(n):
    x_Minus_Mean_Logic=x[u]-Mean_x
    x_Minus_Mean.append(x_Minus_Mean_Logic)
print("x minus mean of x array is",x_Minus_Mean)

y_Minus_Mean=[]
for z in range(n):
    y_Minus_Mean_Logic=y[z]-Mean_y
    y_Minus_Mean.append(y_Minus_Mean_Logic)
print("y minus mean of y array is",y_Minus_Mean,"\n\n")



# ---------------------------summision x square
x_square_array = []

for j in range(n):
    x_square = (x[j] - Mean_x)**2
    x_square_array.append(x_square)
    
    
print("(x minus mean of x) square array is ",x_square_array)


Summision_x_square=sum(x_square_array)
print("Summision of (x - Mean of x)^2 is",Summision_x_square,"\n\n")


# ---------------------------summision y square

y_square_array=[]
for k in range(n):
    y_square = (y[k] - Mean_y)**2
    y_square_array.append(y_square)
print("(y minus mean of y) square array is",y_square_array)

Summision_y_square=sum(y_square_array)
print("Summision of (y - Mean of y)^2 is",Summision_y_square,"\n\n")


# --------------------------summision x*y



summision_appended_xy_array=[]
for m in range(n):
    appended_xy=x_Minus_Mean[m]*y_Minus_Mean[m]
    summision_appended_xy_array.append(appended_xy)
print("Array of x*y is",summision_appended_xy_array)   

summision_appended_xy=sum(summision_appended_xy_array)
print("Summision of (x-mean of x) * (y-mean of y) is",summision_appended_xy,"\n\n")

# ----------------line of regression y on x
byx=summision_appended_xy/Summision_x_square
print("The value of byx is",byx)


y_unknown=(byx*(x_given_value-Mean_x))+Mean_y


print("******************************************************************")

print("The value of y is",y_unknown)

print("******************************************************************")
