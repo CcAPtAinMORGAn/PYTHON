{
 "cells": [
  {
   "cell_type": "code",
   "execution_count": 1,
   "metadata": {
    "trusted": true
   },
   "outputs": [
    {
     "name": "stdout",
     "output_type": "stream",
     "text": [
      "ModeResult(mode=np.int64(86), count=np.int64(3))\n"
     ]
    }
   ],
   "source": [
    "from scipy import stats\n",
    "\n",
    "speed = [99,86,87,88,111,86,103,87,94,78,77,85,86]\n",
    "\n",
    "x = stats.mode(speed)\n",
    "\n",
    "print(x)"
   ]
  },
  {
   "cell_type": "code",
   "execution_count": 2,
   "metadata": {
    "trusted": true
   },
   "outputs": [
    {
     "name": "stdout",
     "output_type": "stream",
     "text": [
      "The mode of the grouped data is: 46.13636363636363\n"
     ]
    }
   ],
   "source": [
    "import numpy as np\n",
    "\n",
    "# Given grouped data\n",
    "class_intervals = [(10, 19), (20, 29), (30, 39), (40, 49), (50, 59), (60, 69)]\n",
    "frequencies = [5, 12, 18, 25, 10, 8]\n",
    "\n",
    "# Calculate the necessary values\n",
    "L = 40  # Lower boundary of the modal class\n",
    "f1 = 25  # Frequency of the modal class\n",
    "f0 = 18  # Frequency of the class before the modal class\n",
    "f2 = 10  # Frequency of the class after the modal class\n",
    "h = 9  # Class width (since 19 - 10 = 9)\n",
    "\n",
    "# Applying the formula for Mode\n",
    "mode = L + ((f1 - f2) / (2 * f1 - f0 - f2)) * h\n",
    "\n",
    "print(\"The mode of the grouped data is:\", mode)\n"
   ]
  },
  {
   "cell_type": "code",
   "execution_count": 3,
   "metadata": {
    "trusted": true
   },
   "outputs": [
    {
     "name": "stdout",
     "output_type": "stream",
     "text": [
      "The most frequently sold product is product ID: 101\n",
      "Product 101 was sold 6 times.\n"
     ]
    }
   ],
   "source": [
    "# Practical Use in Industry:\n",
    "# In a real-world scenario, businesses can use this information to:\n",
    "\n",
    "# Optimize Inventory: If product 101 is the most frequently sold item,\n",
    "# the store may decide to reorder more of that product to ensure it has enough stock.\n",
    "\n",
    "\n",
    "import numpy as np\n",
    "from scipy import stats\n",
    "\n",
    "# Example sales data: product IDs (e.g., 101, 102, 103, etc.) sold in a week\n",
    "sales_data = [101, 102, 101, 103, 101, 104, 102, 105, 101, 102, 101, 103, 104, 101]\n",
    "\n",
    "# Calculate the mode using scipy.stats.mode() for raw data\n",
    "mode_result = stats.mode(sales_data)\n",
    "\n",
    "# Extract the mode and its frequency\n",
    "mode_value = mode_result.mode  # Most frequent product ID\n",
    "mode_frequency = mode_result.count  # How many times the mode appears\n",
    "\n",
    "# Output the most frequently sold product and its frequency\n",
    "print(f\"The most frequently sold product is product ID: {mode_value}\")\n",
    "print(f\"Product {mode_value} was sold {mode_frequency} times.\")\n"
   ]
  },
  {
   "cell_type": "code",
   "execution_count": 4,
   "metadata": {
    "trusted": true
   },
   "outputs": [
    {
     "name": "stdout",
     "output_type": "stream",
     "text": [
      "The modal class is: (31, 40)\n",
      "The mode of the grouped data is: 46.13636363636363\n"
     ]
    },
    {
     "data": {
      "image/png": "[encoded data removed]",
      "text/plain": [
       "<Figure size 640x480 with 1 Axes>"
      ]
     },
     "metadata": {},
     "output_type": "display_data"
    }
   ],
   "source": [
    "import numpy as np\n",
    "import matplotlib.pyplot as plt\n",
    "\n",
    "# Given grouped data\n",
    "class_intervals = [(0, 10), (11, 20), (21, 30), (31, 40), (41, 50), (51, 60)]\n",
    "frequencies = [5, 12, 18, 25, 10, 8]\n",
    "\n",
    "# Identify the modal class (the class with the highest frequency)\n",
    "modal_class_index = np.argmax(frequencies)\n",
    "\n",
    "# Calculate the necessary values for the formula\n",
    "L = class_intervals[modal_class_index][0]  # Lower boundary of the modal class\n",
    "\n",
    "f1 = frequencies[modal_class_index]  \n",
    "# Frequency of the modal class is stored in f1\n",
    "\n",
    "#---------------------------------------------------------------------------------------------------------------------------\n",
    "f0 = frequencies[modal_class_index - 1] if modal_class_index > 0 else 0 \n",
    "# Frequency of the class before the modal class\n",
    "\n",
    "# modal_class_index - 1: This accesses the class before the modal class in the list of frequencies. \n",
    "# We subtract 1 from the modal class index to get the previous class.\n",
    "\n",
    "# if modal_class_index > 0 else 0: \n",
    "#     We use this conditional check to ensure that \n",
    "#     we don't attempt to access an invalid index (e.g., if the modal class is the first class in the list). \n",
    "#     If the modal class is the first class (index 0), there is no class before it, so f₀ is set to 0.\n",
    "\n",
    "# For example, if the modal class is at index 3, then the frequency of the previous class (f₀) will be frequencies[2]. \n",
    "# If the modal class is at index 0, f₀ will be 0 because there is no previous class.\n",
    "#----------------------------------------------------------------------------------------------------------------------------\n",
    "\n",
    "f2 = frequencies[modal_class_index + 1] if modal_class_index < len(frequencies) - 1 else 0  \n",
    "# Frequency of the class after the modal class\n",
    "\n",
    "# modal_class_index + 1: This accesses the class after the modal class by adding 1 to the modal class index.\n",
    "# if modal_class_index < len(frequencies) - 1 else 0: \n",
    "#     This conditional check ensures we don't try to access an invalid index if the modal class is the last class.\n",
    "#     If the modal class is the last class (i.e., it’s the last item in the frequencies list),\n",
    "#     there is no class after it, so f₂ is set to 0.\n",
    "\n",
    "#     For example, \n",
    "#     if the modal class is at index 3 (class (31, 40)), f₂ will be the frequency of the next class (frequencies[4]).\n",
    "#     If the modal class is the last one (e.g., at index 5), f₂ will be set to 0 since there is no next class.\n",
    "\n",
    "\n",
    "\n",
    "\n",
    "\n",
    "\n",
    "h = class_intervals[modal_class_index][1] - class_intervals[modal_class_index][0]  \n",
    "\n",
    "# Class width (difference between upper and lower bounds of the modal class)\n",
    "# class_intervals[modal_class_index][1]: This retrieves the upper boundary of the modal class.\n",
    "# class_intervals[modal_class_index][0]: This retrieves the lower boundary of the modal class.\n",
    "# h: This calculates the class width, which is the difference between the upper and lower boundaries of any class. \n",
    "# For example, for the class interval (31, 40), the class width h is 40 - 31 = 9.\n",
    "\n",
    "# # Calculate the mode using the formula\n",
    "# mode = L + ((f1 - f2) / (2 * f1 - f0 - f2)) * h\n",
    "\n",
    "# Output the result\n",
    "print(f\"The modal class is: {class_intervals[modal_class_index]}\")\n",
    "print(f\"The mode of the grouped data is: {mode}\")\n",
    "\n",
    "\n",
    "\n",
    "# Plotting the grouped data as a bar chart\n",
    "class_centers = [(low + high) / 2 for low, high in class_intervals]  # Find the center of each class interval\n",
    "\n",
    "# Plot bar chart\n",
    "plt.bar(class_centers, frequencies, width=h, align='center', color='skyblue', edgecolor='black')\n",
    "\n",
    "# Highlight the modal class\n",
    "plt.axvline(x=class_centers[modal_class_index], color='red', linestyle='dashed', linewidth=2)\n",
    "\n",
    "\n",
    "\n",
    "# Add labels and title\n",
    "plt.xlabel('Units Sold')\n",
    "plt.ylabel('Frequency')\n",
    "plt.title('Grouped Data: Frequency Distribution with Mode')\n",
    "plt.xticks(class_centers, [f\"{low}-{high}\" for low, high in class_intervals])  # Display class intervals on x-axis\n",
    "plt.grid(True)\n",
    "\n",
    "# Show the plot\n",
    "plt.show()\n"
   ]
  },
  {
   "cell_type": "code",
   "execution_count": null,
   "metadata": {
    "trusted": true
   },
   "outputs": [],
   "source": []
  }
 ],
 "metadata": {
  "kernelspec": {
   "display_name": "Python 3",
   "language": "python",
   "name": "python3"
  },
  "language_info": {
   "codemirror_mode": {
    "name": "ipython",
    "version": 3
   },
   "file_extension": ".py",
   "mimetype": "text/x-python",
   "name": "python",
   "nbconvert_exporter": "python",
   "pygments_lexer": "ipython3",
   "version": "3.12.1"
  }
 },
 "nbformat": 4,
 "nbformat_minor": 4
}
