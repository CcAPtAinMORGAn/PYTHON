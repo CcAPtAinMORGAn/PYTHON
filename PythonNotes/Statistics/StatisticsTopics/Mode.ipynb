{
  "metadata": {
    "kernelspec": {
      "name": "python",
      "display_name": "Python (Pyodide)",
      "language": "python"
    },
    "language_info": {
      "codemirror_mode": {
        "name": "python",
        "version": 3
      },
      "file_extension": ".py",
      "mimetype": "text/x-python",
      "name": "python",
      "nbconvert_exporter": "python",
      "pygments_lexer": "ipython3",
      "version": "3.8"
    }
  },
  "nbformat_minor": 4,
  "nbformat": 4,
  "cells": [
    {
      "cell_type": "code",
      "source": "from scipy import stats\n\nspeed = [99,86,87,88,111,86,103,87,94,78,77,85,86]\n\nx = stats.mode(speed)\n\nprint(x)",
      "metadata": {
        "trusted": true
      },
      "outputs": [
        {
          "name": "stdout",
          "text": "ModeResult(mode=86, count=3)\n",
          "output_type": "stream"
        }
      ],
      "execution_count": 3
    },
    {
      "cell_type": "code",
      "source": "import numpy as np\n\n# Given grouped data\nclass_intervals = [(10, 19), (20, 29), (30, 39), (40, 49), (50, 59), (60, 69)]\nfrequencies = [5, 12, 18, 25, 10, 8]\n\n# Calculate the necessary values\nL = 40  # Lower boundary of the modal class\nf1 = 25  # Frequency of the modal class\nf0 = 18  # Frequency of the class before the modal class\nf2 = 10  # Frequency of the class after the modal class\nh = 9  # Class width (since 19 - 10 = 9)\n\n# Applying the formula for Mode\nmode = L + ((f1 - f2) / (2 * f1 - f0 - f2)) * h\n\nprint(\"The mode of the grouped data is:\", mode)\n",
      "metadata": {
        "trusted": true
      },
      "outputs": [
        {
          "name": "stdout",
          "text": "The mode of the grouped data is: 46.13636363636363\n",
          "output_type": "stream"
        }
      ],
      "execution_count": 4
    },
    {
      "cell_type": "code",
      "source": "# Practical Use in Industry:\n# In a real-world scenario, businesses can use this information to:\n\n# Optimize Inventory: If product 101 is the most frequently sold item,\n# the store may decide to reorder more of that product to ensure it has enough stock.\n\n\nimport numpy as np\nfrom scipy import stats\n\n# Example sales data: product IDs (e.g., 101, 102, 103, etc.) sold in a week\nsales_data = [101, 102, 101, 103, 101, 104, 102, 105, 101, 102, 101, 103, 104, 101]\n\n# Calculate the mode using scipy.stats.mode() for raw data\nmode_result = stats.mode(sales_data)\n\n# Extract the mode and its frequency\nmode_value = mode_result.mode  # Most frequent product ID\nmode_frequency = mode_result.count  # How many times the mode appears\n\n# Output the most frequently sold product and its frequency\nprint(f\"The most frequently sold product is product ID: {mode_value}\")\nprint(f\"Product {mode_value} was sold {mode_frequency} times.\")\n",
      "metadata": {
        "trusted": true
      },
      "outputs": [
        {
          "name": "stdout",
          "text": "The most frequently sold product is product ID: 101\nProduct 101 was sold 6 times.\n",
          "output_type": "stream"
        }
      ],
      "execution_count": 10
    },
    {
      "cell_type": "code",
      "source": "import numpy as np\n\n# Given grouped data\nclass_intervals = [(0, 10), (11, 20), (21, 30), (31, 40), (41, 50), (51, 60)]\nfrequencies = [5, 12, 18, 25, 10, 8]\n\n# Identify the modal class (the class with the highest frequency)\nmodal_class_index = np.argmax(frequencies)\n\n# Calculate the necessary values for the formula\nL = class_intervals[modal_class_index][0]  # Lower boundary of the modal class\nf1 = frequencies[modal_class_index]  # Frequency of the modal class\nf0 = frequencies[modal_class_index - 1] if modal_class_index > 0 else 0  # Frequency of the class before the modal class\nf2 = frequencies[modal_class_index + 1] if modal_class_index < len(frequencies) - 1 else 0  # Frequency of the class after the modal class\nh = class_intervals[modal_class_index][1] - class_intervals[modal_class_index][0]  # Class width (difference between upper and lower bounds of the modal class)\n\n# Calculate the mode using the formula\nmode = L + ((f1 - f2) / (2 * f1 - f0 - f2)) * h\n\n# Output the result\nprint(f\"The modal class is: {class_intervals[modal_class_index]}\")\nprint(f\"The mode of the grouped data is: {mode}\")\n",
      "metadata": {
        "trusted": true
      },
      "outputs": [
        {
          "name": "stdout",
          "text": "The modal class is: (31, 40)\nThe mode of the grouped data is: 37.13636363636363\n",
          "output_type": "stream"
        }
      ],
      "execution_count": 11
    },
    {
      "cell_type": "code",
      "source": "",
      "metadata": {
        "trusted": true
      },
      "outputs": [],
      "execution_count": null
    }
  ]
}