{
 "cells": [
  {
   "cell_type": "code",
   "execution_count": 1,
   "metadata": {},
   "outputs": [],
   "source": [
    "# Skewness Formula\n",
    "\n",
    "# Skewness is a measure of the asymmetry of a distribution\n",
    "\n",
    "# The measure of skewness tells us the direction and the extent of skewness. In symmetrical distribution the mean, median, and mode are identical. the more the mean moves away from the mode, the larger the asymmetric or skewness.\n",
    "\n",
    "# Before learning let’s learn more about Mean, Median, and Mode first.\n",
    "\n",
    "# Mean\n",
    "\n",
    "# Mean is the average of the numbers in the data distribution, It is calculated by adding up all the values in the dataset and dividing the sum by the number of values in the dataset.\n",
    "\n",
    "# Mean= Sum of all values in Dataset / Total number of values\n",
    "\n",
    "# Example: Find the mean of a dataset of exam scores: 70, 80, 85, 90, and 95.\n",
    "\n",
    "# Solution:\n",
    "\n",
    "# Mean = (70 + 80 + 85 + 90 + 95) / 5 = 84\n",
    "\n",
    "# So the mean of this dataset is 84.\n",
    "\n",
    "# Median\n",
    "\n",
    "# When arranging all the data in order (ascending and descending) the comes in the middle of the data is called the median.\n",
    "\n",
    "# Median is the middle value of a dataset when the values are arranged in order from smallest to largest. \n",
    "\n",
    "# Examples for Odd Numbers in the Dataset\n",
    "\n",
    "# Example 1: Find the median of a dataset of exam scores: 70, 85, 80, 95, 90\n",
    "\n",
    "# Solution:\n",
    "\n",
    "# Firstly arrange all no. in order from smallest to largest: 70, 80, 85, 90, 95.\n",
    "\n",
    "# The mid value is 85. so, the median is 85.\n",
    "\n",
    "# most frequently used number in data is called the mode of the data.\n",
    "\n",
    "# Example 1: We have a data set representing the number of pets \n",
    "# owned by 10 people: 3, 1, 0, 2, 1, 1, 4, 2, 2, 1. Find the mode.\n",
    "\n",
    "# Solution:\n",
    "\n",
    "# So, the value that appears most frequently in the data set is 1.\n",
    "# the value 1 appears four times. Therefore, the mode of this data set is 1.\n",
    "\n"
   ]
  },
  {
   "cell_type": "code",
   "execution_count": 2,
   "metadata": {},
   "outputs": [
    {
     "data": {
      "image/png": "[encoded data removed]",
      "text/plain": [
       "<Figure size 800x600 with 1 Axes>"
      ]
     },
     "metadata": {},
     "output_type": "display_data"
    }
   ],
   "source": [
    "import numpy as np\n",
    "import matplotlib.pyplot as plt\n",
    "from scipy.stats import skew\n",
    "\n",
    "# Data set\n",
    "data = [1, 2, 2, 3, 3, 3, 4, 4, 4, 4, 5, 5, 5, 5, 6, 7, 8, 9, 10, 15]\n",
    "\n",
    "# Calculate skewness using scipy.stats.skew\n",
    "skewness = skew(data)\n",
    "\n",
    "# Set up the plot\n",
    "plt.figure(figsize=(8, 6))\n",
    "\n",
    "# Plot histogram\n",
    "plt.hist(data, bins=10, color='skyblue', edgecolor='black', alpha=0.7)\n",
    "\n",
    "# Calculate the density for KDE (Kernel Density Estimate) manually\n",
    "from scipy.stats import gaussian_kde\n",
    "kde = gaussian_kde(data, bw_method=0.3)  # Bandwidth controls smoothness\n",
    "x = np.linspace(min(data) - 1, max(data) + 1, 1000)\n",
    "plt.plot(x, kde(x), color='red', lw=2)\n",
    "\n",
    "# Add the skewness text to the plot\n",
    "plt.title(f\"Skewness: {skewness:.2f}\", fontsize=16)\n",
    "\n",
    "# Add labels\n",
    "plt.xlabel('Data', fontsize=14)\n",
    "plt.ylabel('Density', fontsize=14)\n",
    "\n",
    "# Show the plot\n",
    "plt.show()\n",
    "\n"
   ]
  },
  {
   "cell_type": "code",
   "execution_count": 3,
   "metadata": {},
   "outputs": [
    {
     "name": "stdout",
     "output_type": "stream",
     "text": [
      "Mean is  5.25\n",
      "Standard Deviation is  3.191786333700926\n",
      "Skewness is  1.66515557078486\n"
     ]
    }
   ],
   "source": [
    "import math\n",
    "data = [1, 2, 2, 3, 3, 3, 4, 4, 4, 4, 5, 5, 5, 5, 6, 7, 8, 9, 10, 15]\n",
    "\n",
    "n=len(data)\n",
    "x=0\n",
    "for i in range(len(data)):\n",
    "   x+=data[i]/n\n",
    "Mean=x\n",
    "print(\"Mean is \",Mean)\n",
    "\n",
    "y=0\n",
    "for j in range(len(data)):\n",
    "    y+=(data[j]-Mean)**2\n",
    "\n",
    "Standard_Deviation=math.sqrt(y/n)\n",
    "print(\"Standard Deviation is \",Standard_Deviation)\n",
    "\n",
    "z=0\n",
    "for k in range(len(data)):\n",
    "    z+=((data[k]-Mean)/Standard_Deviation)**3\n",
    "\n",
    "Skewness=(n/((n-1)*(n-2)))*z\n",
    "print(\"Skewness is \",Skewness)"
   ]
  }
 ],
 "metadata": {
  "kernelspec": {
   "display_name": "Python 3",
   "language": "python",
   "name": "python3"
  },
  "language_info": {
   "codemirror_mode": {
    "name": "ipython",
    "version": 3
   },
   "file_extension": ".py",
   "mimetype": "text/x-python",
   "name": "python",
   "nbconvert_exporter": "python",
   "pygments_lexer": "ipython3",
   "version": "3.12.1"
  }
 },
 "nbformat": 4,
 "nbformat_minor": 2
}
