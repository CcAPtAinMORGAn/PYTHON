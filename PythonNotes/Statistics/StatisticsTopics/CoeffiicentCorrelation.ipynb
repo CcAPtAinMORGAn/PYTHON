{
 "cells": [
  {
   "cell_type": "code",
   "execution_count": 13,
   "metadata": {},
   "outputs": [
    {
     "name": "stdout",
     "output_type": "stream",
     "text": [
      "Correlation coefficient: 0.9847982464479191\n"
     ]
    },
    {
     "data": {
      "image/png": "[encoded data removed]",
      "text/plain": [
       "<Figure size 640x480 with 1 Axes>"
      ]
     },
     "metadata": {},
     "output_type": "display_data"
    }
   ],
   "source": [
    "import numpy as np\n",
    "\n",
    "import matplotlib.pyplot as plt\n",
    "\n",
    "# Sample data\n",
    "\n",
    "#x = np.array([1, 2, 3, 4, 5])\n",
    "\n",
    "#y = np.array([2, 4, 5, 4, 5])\n",
    "\n",
    "# Sample data\n",
    "\n",
    "x = np.array([1, 2, 3, 4, 5])\n",
    "\n",
    "y = np.array([2, 4, 6, 7, 8])\n",
    "\n",
    "# Calculate correlation coefficient\n",
    "\n",
    "correlation = np.corrcoef(x, y)[0, 1]\n",
    "\n",
    "# Print the correlation coefficient\n",
    "\n",
    "print(\"Correlation coefficient:\", correlation)\n",
    "\n",
    "# Create a scatter plot\n",
    "\n",
    "plt.scatter(x, y)\n",
    "\n",
    "plt.xlabel(\"Variable X\")\n",
    "\n",
    "plt.ylabel(\"Variable Y\")\n",
    "\n",
    "plt.title(\"Correlation Example\")\n",
    "\n",
    "plt.show()"
   ]
  },
  {
   "cell_type": "code",
   "execution_count": 14,
   "metadata": {},
   "outputs": [
    {
     "name": "stdout",
     "output_type": "stream",
     "text": [
      "Mean of x array is  3.0\n",
      "Mean of y array is  5.4 \n",
      "\n",
      "\n",
      "x minus mean of x array is [-2.0, -1.0, 0.0, 1.0, 2.0]\n",
      "y minus mean of y array is [-3.4000000000000004, -1.4000000000000004, 0.5999999999999996, 1.5999999999999996, 2.5999999999999996] \n",
      "\n",
      "\n",
      "(x minus mean of x) square array is  [4.0, 1.0, 0.0, 1.0, 4.0]\n",
      "Summision of (x - Mean of x)^2 is 10.0 \n",
      "\n",
      "\n",
      "(y minus mean of y) square array is [11.560000000000002, 1.960000000000001, 0.3599999999999996, 2.5599999999999987, 6.759999999999998]\n",
      "Summision of (y - Mean of y)^2 is 23.2 \n",
      "\n",
      "\n",
      "Summision of (x-mean of x) * (y-mean of y) is 15.0 \n",
      "\n",
      "\n",
      "******************************************************************\n",
      "Coefficient of correlation is 0.9847982464479191\n",
      "******************************************************************\n"
     ]
    }
   ],
   "source": [
    "import math\n",
    "x=[1,2,3,4,5]\n",
    "\n",
    "y=[2,4,6,7,8]\n",
    "\n",
    "n=len(x)\n",
    "# -------------------Mean of array x\n",
    "a=0\n",
    "for i in range(n):\n",
    "   a+=x[i]/n \n",
    "# ------------------Mean of array y\n",
    "b=0\n",
    "for l in range(n):\n",
    "   b+=y[l]/n \n",
    "# ---------------------------------\n",
    "\n",
    "Mean_x=a\n",
    "print(\"Mean of x array is \",Mean_x)\n",
    "\n",
    "Mean_y=b\n",
    "print(\"Mean of y array is \",Mean_y,\"\\n\\n\")\n",
    "\n",
    "\n",
    "# -------------------------------------- x_Minus_Mean and y_Minus_Mean\n",
    "\n",
    "x_Minus_Mean=[]\n",
    "for u in range(n):\n",
    "    x_Minus_Mean_Logic=x[u]-Mean_x\n",
    "    x_Minus_Mean.append(x_Minus_Mean_Logic)\n",
    "print(\"x minus mean of x array is\",x_Minus_Mean)\n",
    "\n",
    "y_Minus_Mean=[]\n",
    "for z in range(n):\n",
    "    y_Minus_Mean_Logic=y[z]-Mean_y\n",
    "    y_Minus_Mean.append(y_Minus_Mean_Logic)\n",
    "print(\"y minus mean of y array is\",y_Minus_Mean,\"\\n\\n\")\n",
    "\n",
    "\n",
    "\n",
    "# ---------------------------summision x square\n",
    "x_square_array = []\n",
    "\n",
    "for j in range(n):\n",
    "    x_square = (x[j] - Mean_x)**2\n",
    "    x_square_array.append(x_square)\n",
    "    \n",
    "    \n",
    "print(\"(x minus mean of x) square array is \",x_square_array)\n",
    "\n",
    "\n",
    "Summision_x_square=sum(x_square_array)\n",
    "print(\"Summision of (x - Mean of x)^2 is\",Summision_x_square,\"\\n\\n\")\n",
    "\n",
    "\n",
    "# ---------------------------summision y square\n",
    "\n",
    "y_square_array=[]\n",
    "for k in range(n):\n",
    "    y_square = (y[k] - Mean_y)**2\n",
    "    y_square_array.append(y_square)\n",
    "print(\"(y minus mean of y) square array is\",y_square_array)\n",
    "\n",
    "Summision_y_square=sum(y_square_array)\n",
    "print(\"Summision of (y - Mean of y)^2 is\",Summision_y_square,\"\\n\\n\")\n",
    "\n",
    "\n",
    "# --------------------------summision x*y\n",
    "\n",
    "\n",
    "\n",
    "summision_appended_xy=0\n",
    "for m in range(n):\n",
    "    summision_appended_xy+=x_Minus_Mean[m]*y_Minus_Mean[m]\n",
    "print(\"Summision of (x-mean of x) * (y-mean of y) is\",summision_appended_xy,\"\\n\\n\")\n",
    "\n",
    "print(\"******************************************************************\")\n",
    "Coeff=summision_appended_xy/math.sqrt(Summision_x_square*Summision_y_square)\n",
    "print(\"Coefficient of correlation is\",Coeff)\n",
    "print(\"******************************************************************\")"
   ]
  },
  {
   "cell_type": "code",
   "execution_count": null,
   "metadata": {},
   "outputs": [],
   "source": []
  }
 ],
 "metadata": {
  "kernelspec": {
   "display_name": "Python 3",
   "language": "python",
   "name": "python3"
  },
  "language_info": {
   "codemirror_mode": {
    "name": "ipython",
    "version": 3
   },
   "file_extension": ".py",
   "mimetype": "text/x-python",
   "name": "python",
   "nbconvert_exporter": "python",
   "pygments_lexer": "ipython3",
   "version": "3.12.1"
  }
 },
 "nbformat": 4,
 "nbformat_minor": 2
}
