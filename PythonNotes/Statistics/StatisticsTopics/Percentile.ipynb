{
 "cells": [
  {
   "cell_type": "code",
   "execution_count": 1,
   "metadata": {
    "trusted": true
   },
   "outputs": [
    {
     "name": "stdout",
     "output_type": "stream",
     "text": [
      "Percentile is  43.0 i.e 75 % of people are 43.0 or younger\n"
     ]
    }
   ],
   "source": [
    "\n",
    "# Percentiles are used in statistics to give you a number that describes the value that a given percent of the values are lower than.\n",
    "\n",
    "# Example: Let's say we have an array of the ages of all the people that live in a street.\n",
    "\n",
    "# ages = [5,31,43,48,50,41,7,11,15,39,80,82,32,2,8,6,25,36,27,61,31]\n",
    "\n",
    "# What is the 75. percentile? The answer is 43, meaning that 75% of the people are 43 or younger.\n",
    "\n",
    "# ages = [5,31,43,48,50,41,7,11,15,39,80,82,32,2,8,6,25,36,27,61,31]\n",
    "# ages.sort()\n",
    "# print(ages)\n",
    "\n",
    "# The NumPy module has a method for finding the specified percentile:\n",
    "import numpy as np\n",
    "\n",
    "ages = [5,31,43,48,50,41,7,11,15,39,80,82,32,2,8,6,25,36,27,61,31]\n",
    "\n",
    "a = 75 #Enter Percentile\n",
    "\n",
    "x = np.percentile(ages, a)\n",
    "\n",
    "print(\"Percentile is \",x,\"i.e\",a,\"%\",\"of people are\",x,\"or younger\")"
   ]
  },
  {
   "cell_type": "code",
   "execution_count": 2,
   "metadata": {
    "trusted": true
   },
   "outputs": [
    {
     "name": "stdout",
     "output_type": "stream",
     "text": [
      "Sorted Array:-  [2, 5, 6, 7, 8, 11, 15, 25, 27, 31, 31, 32, 36, 39, 41, 43, 48, 50, 61, 80, 82]\n",
      "No. of observations in array:-  21\n",
      "5.5 Position of percentile\n",
      "5 6 Positions in sorted array\n",
      "Percentile is  13.0 i.e 25 % of people are 13.0 or younger\n"
     ]
    }
   ],
   "source": [
    "# ages = [5,31,43,48,50,41,7,11,15,39,80,82,32,2,8,6,25,36,27,61,31]\n",
    "# ages.sort()\n",
    "# print(ages)\n",
    "\n",
    "ages = [5,31,43,48,50,41,7,11,15,39,80,82,32,2,8,6,25,36,27,61,31]\n",
    "\n",
    "ages.sort()\n",
    "\n",
    "n=len(ages)\n",
    "\n",
    "x=25 #Percentile to be found\n",
    "\n",
    "Px=((x*(n+1))/100)\n",
    "\n",
    "a=round(Px) - 1 #Since  0 indexing we have to go one index back\n",
    "b=a+1\n",
    "Percentile = (ages[a] + ages[b]) / 2\n",
    "\n",
    "print(\"Sorted Array:- \",ages)\n",
    "\n",
    "print(\"No. of observations in array:- \",n)\n",
    "\n",
    "print(Px,\"Position of percentile\")\n",
    "\n",
    "print(a,b,\"Positions in sorted array\")\n",
    "\n",
    "print(\"Percentile is \",Percentile,\"i.e\",x,\"%\",\"of people are\",Percentile,\"or younger\")\n",
    "\n",
    "# print(ages[16])\n",
    "# print(ages[17])"
   ]
  },
  {
   "cell_type": "code",
   "execution_count": null,
   "metadata": {
    "trusted": true
   },
   "outputs": [],
   "source": [
    "# Percentiles are used to understand how a value compares to others in a dataset. Here's a quick overview of practical uses:\n",
    "\n",
    "# 1. **Education**: Test scores (e.g., 75th percentile means better than 75% of peers).\n",
    "# 2. **Healthcare**: Growth charts (e.g., a child in the 50th percentile for height is average).\n",
    "# 3. **Finance**: Investment returns (e.g., 90th percentile means better than 90% of investments).\n",
    "# 4. **Business**: Customer segmentation (e.g., top 10% of customers based on spending).\n",
    "# 5. **Sports**: Ranking athletes (e.g., 95th percentile means better than 95% of competitors).\n",
    "# 6. **Retail**: Sales performance (e.g., top 25% of products based on sales).\n",
    "# 7. **Data Science**: Outlier detection (values outside the 5th and 95th percentiles are outliers).\n",
    "# 8. **Public Policy**: Social indicators (e.g., poverty level at the 30th percentile of income).\n",
    "  \n",
    "# Percentiles help in **comparison, segmentation, and decision-making** across different fields."
   ]
  }
 ],
 "metadata": {
  "kernelspec": {
   "display_name": "Python (Pyodide)",
   "language": "python",
   "name": "python"
  },
  "language_info": {
   "codemirror_mode": {
    "name": "python",
    "version": 3
   },
   "file_extension": ".py",
   "mimetype": "text/x-python",
   "name": "python",
   "nbconvert_exporter": "python",
   "pygments_lexer": "ipython3",
   "version": "3.8"
  }
 },
 "nbformat": 4,
 "nbformat_minor": 4
}
