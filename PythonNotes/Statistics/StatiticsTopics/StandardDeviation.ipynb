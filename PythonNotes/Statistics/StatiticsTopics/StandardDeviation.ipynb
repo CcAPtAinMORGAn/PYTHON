{
 "cells": [
  {
   "cell_type": "code",
   "execution_count": 7,
   "metadata": {},
   "outputs": [
    {
     "name": "stdout",
     "output_type": "stream",
     "text": [
      "Standard Deviation is 37.84501153334721\n"
     ]
    }
   ],
   "source": [
    "# Why Use Standard deviation?\n",
    "\n",
    "# Standard deviation is a useful statistic for a variety of reasons, including: \n",
    "\n",
    "# Understanding data spread\n",
    "# Standard deviation is a numerical measure of how spread out data points are around the mean. It's useful when variability is as important as the average. \n",
    "\n",
    "# Example: This time we have registered the speed of 7 cars:\n",
    "\n",
    "# speed = [86,87,88,86,87,85,86]\n",
    "\n",
    "# The standard deviation is:0.9\n",
    "\n",
    "# Meaning that most of the values are within the range of 0.9 from the mean value, which is 86.4.\n",
    "# Let us do the same with a selection of numbers with a wider range:\n",
    "# speed = [32,111,138,28,59,77,97]\n",
    "# The standard deviation is:37.85\n",
    "# Meaning that most of the values are within the range of 37.85 from the mean value, which is 77.4.\n",
    "# As you can see, a higher standard deviation indicates that the values are spread out over a wider range.\n",
    "# The NumPy module has a method to calculate the standard deviation:\n",
    "\n",
    "import numpy\n",
    "\n",
    "# speed = [86,87,88,86,87,85,86]\n",
    "speed = [32,111,138,28,59,77,97]\n",
    "\n",
    "x = numpy.std(speed)\n",
    "\n",
    "print(\"Standard Deviation is\",x)"
   ]
  },
  {
   "cell_type": "code",
   "execution_count": null,
   "metadata": {},
   "outputs": [],
   "source": []
  }
 ],
 "metadata": {
  "kernelspec": {
   "display_name": "Python 3",
   "language": "python",
   "name": "python3"
  },
  "language_info": {
   "codemirror_mode": {
    "name": "ipython",
    "version": 3
   },
   "file_extension": ".py",
   "mimetype": "text/x-python",
   "name": "python",
   "nbconvert_exporter": "python",
   "pygments_lexer": "ipython3",
   "version": "3.12.5"
  }
 },
 "nbformat": 4,
 "nbformat_minor": 2
}
