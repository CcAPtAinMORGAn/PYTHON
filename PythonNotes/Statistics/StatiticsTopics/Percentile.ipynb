{
 "cells": [
  {
   "cell_type": "code",
   "execution_count": 5,
   "metadata": {},
   "outputs": [
    {
     "name": "stdout",
     "output_type": "stream",
     "text": [
      "Percentile is  43.0 i.e 75 % of people are 43.0 or younger\n"
     ]
    }
   ],
   "source": [
    "# Percentiles are used in statistics to give you a number that describes the value that a given percent of the values are lower than.\n",
    "\n",
    "# Example: Let's say we have an array of the ages of all the people that live in a street.\n",
    "\n",
    "# ages = [5,31,43,48,50,41,7,11,15,39,80,82,32,2,8,6,25,36,27,61,31]\n",
    "\n",
    "# What is the 75. percentile? The answer is 43, meaning that 75% of the people are 43 or younger.\n",
    "\n",
    "# The NumPy module has a method for finding the specified percentile:\n",
    "\n",
    "import numpy\n",
    "\n",
    "ages = [5,31,43,48,50,41,7,11,15,39,80,82,32,2,8,6,25,36,27,61,31]\n",
    "a = 75 #Enter Percentile\n",
    "x = numpy.percentile(ages, a)\n",
    "\n",
    "print(\"Percentile is \",x,\"i.e\",a,\"%\",\"of people are\",x,\"or younger\")"
   ]
  },
  {
   "cell_type": "code",
   "execution_count": 6,
   "metadata": {},
   "outputs": [
    {
     "name": "stdout",
     "output_type": "stream",
     "text": [
      "Percentile is  61.0 i.e 90 % of people are 61.0 or younger\n"
     ]
    }
   ],
   "source": [
    "# What is the age that 90% of the people are younger than?\n",
    "\n",
    "ages = [5,31,43,48,50,41,7,11,15,39,80,82,32,2,8,6,25,36,27,61,31]\n",
    "\n",
    "a = 90 #Enter Percentile\n",
    "x = numpy.percentile(ages, a)\n",
    "\n",
    "print(\"Percentile is \",x,\"i.e\",a,\"%\",\"of people are\",x,\"or younger\")"
   ]
  },
  {
   "cell_type": "code",
   "execution_count": null,
   "metadata": {},
   "outputs": [],
   "source": []
  }
 ],
 "metadata": {
  "kernelspec": {
   "display_name": "Python 3",
   "language": "python",
   "name": "python3"
  },
  "language_info": {
   "codemirror_mode": {
    "name": "ipython",
    "version": 3
   },
   "file_extension": ".py",
   "mimetype": "text/x-python",
   "name": "python",
   "nbconvert_exporter": "python",
   "pygments_lexer": "ipython3",
   "version": "3.12.5"
  }
 },
 "nbformat": 4,
 "nbformat_minor": 2
}
