{
  "metadata": {
    "kernelspec": {
      "name": "python",
      "display_name": "Python (Pyodide)",
      "language": "python"
    },
    "language_info": {
      "codemirror_mode": {
        "name": "python",
        "version": 3
      },
      "file_extension": ".py",
      "mimetype": "text/x-python",
      "name": "python",
      "nbconvert_exporter": "python",
      "pygments_lexer": "ipython3",
      "version": "3.8"
    },
    "anaconda-cloud": {}
  },
  "nbformat_minor": 4,
  "nbformat": 4,
  "cells": [
    {
      "cell_type": "code",
      "source": "import pandas as pd\n\ndf = pd.read_csv(\"fb.csv\", index_col='Date')\n\ndf.index = pd.to_datetime(df.index, format='%d-%b-%y')\ndf\n",
      "metadata": {
        "collapsed": false,
        "scrolled": true,
        "jupyter": {
          "outputs_hidden": false
        },
        "trusted": true
      },
      "outputs": [
        {
          "execution_count": 114,
          "output_type": "execute_result",
          "data": {
            "text/plain": "             Price\nDate              \n2017-08-15  171.00\n2017-08-16  170.00\n2017-08-17  166.91\n2017-08-18  167.41\n2017-08-21  167.78\n2017-08-22  169.64\n2017-08-23  168.71\n2017-08-24  167.74\n2017-08-25  166.32\n2017-08-28  167.24",
            "text/html": "<div>\n<style scoped>\n    .dataframe tbody tr th:only-of-type {\n        vertical-align: middle;\n    }\n\n    .dataframe tbody tr th {\n        vertical-align: top;\n    }\n\n    .dataframe thead th {\n        text-align: right;\n    }\n</style>\n<table border=\"1\" class=\"dataframe\">\n  <thead>\n    <tr style=\"text-align: right;\">\n      <th></th>\n      <th>Price</th>\n    </tr>\n    <tr>\n      <th>Date</th>\n      <th></th>\n    </tr>\n  </thead>\n  <tbody>\n    <tr>\n      <th>2017-08-15</th>\n      <td>171.00</td>\n    </tr>\n    <tr>\n      <th>2017-08-16</th>\n      <td>170.00</td>\n    </tr>\n    <tr>\n      <th>2017-08-17</th>\n      <td>166.91</td>\n    </tr>\n    <tr>\n      <th>2017-08-18</th>\n      <td>167.41</td>\n    </tr>\n    <tr>\n      <th>2017-08-21</th>\n      <td>167.78</td>\n    </tr>\n    <tr>\n      <th>2017-08-22</th>\n      <td>169.64</td>\n    </tr>\n    <tr>\n      <th>2017-08-23</th>\n      <td>168.71</td>\n    </tr>\n    <tr>\n      <th>2017-08-24</th>\n      <td>167.74</td>\n    </tr>\n    <tr>\n      <th>2017-08-25</th>\n      <td>166.32</td>\n    </tr>\n    <tr>\n      <th>2017-08-28</th>\n      <td>167.24</td>\n    </tr>\n  </tbody>\n</table>\n</div>"
          },
          "metadata": {}
        }
      ],
      "execution_count": 114
    },
    {
      "cell_type": "markdown",
      "source": "<h2 style=\"color:purple\">Shift</h2>",
      "metadata": {}
    },
    {
      "cell_type": "code",
      "source": "df.shift(2)\n# starts from 1 count below\n",
      "metadata": {
        "collapsed": false,
        "scrolled": true,
        "jupyter": {
          "outputs_hidden": false
        },
        "trusted": true
      },
      "outputs": [
        {
          "execution_count": 115,
          "output_type": "execute_result",
          "data": {
            "text/plain": "             Price\nDate              \n2017-08-15     NaN\n2017-08-16     NaN\n2017-08-17  171.00\n2017-08-18  170.00\n2017-08-21  166.91\n2017-08-22  167.41\n2017-08-23  167.78\n2017-08-24  169.64\n2017-08-25  168.71\n2017-08-28  167.74",
            "text/html": "<div>\n<style scoped>\n    .dataframe tbody tr th:only-of-type {\n        vertical-align: middle;\n    }\n\n    .dataframe tbody tr th {\n        vertical-align: top;\n    }\n\n    .dataframe thead th {\n        text-align: right;\n    }\n</style>\n<table border=\"1\" class=\"dataframe\">\n  <thead>\n    <tr style=\"text-align: right;\">\n      <th></th>\n      <th>Price</th>\n    </tr>\n    <tr>\n      <th>Date</th>\n      <th></th>\n    </tr>\n  </thead>\n  <tbody>\n    <tr>\n      <th>2017-08-15</th>\n      <td>NaN</td>\n    </tr>\n    <tr>\n      <th>2017-08-16</th>\n      <td>NaN</td>\n    </tr>\n    <tr>\n      <th>2017-08-17</th>\n      <td>171.00</td>\n    </tr>\n    <tr>\n      <th>2017-08-18</th>\n      <td>170.00</td>\n    </tr>\n    <tr>\n      <th>2017-08-21</th>\n      <td>166.91</td>\n    </tr>\n    <tr>\n      <th>2017-08-22</th>\n      <td>167.41</td>\n    </tr>\n    <tr>\n      <th>2017-08-23</th>\n      <td>167.78</td>\n    </tr>\n    <tr>\n      <th>2017-08-24</th>\n      <td>169.64</td>\n    </tr>\n    <tr>\n      <th>2017-08-25</th>\n      <td>168.71</td>\n    </tr>\n    <tr>\n      <th>2017-08-28</th>\n      <td>167.74</td>\n    </tr>\n  </tbody>\n</table>\n</div>"
          },
          "metadata": {}
        }
      ],
      "execution_count": 115
    },
    {
      "cell_type": "code",
      "source": "df.shift(-1)\n# starts from one count above",
      "metadata": {
        "collapsed": false,
        "scrolled": true,
        "jupyter": {
          "outputs_hidden": false
        },
        "trusted": true
      },
      "outputs": [
        {
          "execution_count": 116,
          "output_type": "execute_result",
          "data": {
            "text/plain": "             Price\nDate              \n2017-08-15  170.00\n2017-08-16  166.91\n2017-08-17  167.41\n2017-08-18  167.78\n2017-08-21  169.64\n2017-08-22  168.71\n2017-08-23  167.74\n2017-08-24  166.32\n2017-08-25  167.24\n2017-08-28     NaN",
            "text/html": "<div>\n<style scoped>\n    .dataframe tbody tr th:only-of-type {\n        vertical-align: middle;\n    }\n\n    .dataframe tbody tr th {\n        vertical-align: top;\n    }\n\n    .dataframe thead th {\n        text-align: right;\n    }\n</style>\n<table border=\"1\" class=\"dataframe\">\n  <thead>\n    <tr style=\"text-align: right;\">\n      <th></th>\n      <th>Price</th>\n    </tr>\n    <tr>\n      <th>Date</th>\n      <th></th>\n    </tr>\n  </thead>\n  <tbody>\n    <tr>\n      <th>2017-08-15</th>\n      <td>170.00</td>\n    </tr>\n    <tr>\n      <th>2017-08-16</th>\n      <td>166.91</td>\n    </tr>\n    <tr>\n      <th>2017-08-17</th>\n      <td>167.41</td>\n    </tr>\n    <tr>\n      <th>2017-08-18</th>\n      <td>167.78</td>\n    </tr>\n    <tr>\n      <th>2017-08-21</th>\n      <td>169.64</td>\n    </tr>\n    <tr>\n      <th>2017-08-22</th>\n      <td>168.71</td>\n    </tr>\n    <tr>\n      <th>2017-08-23</th>\n      <td>167.74</td>\n    </tr>\n    <tr>\n      <th>2017-08-24</th>\n      <td>166.32</td>\n    </tr>\n    <tr>\n      <th>2017-08-25</th>\n      <td>167.24</td>\n    </tr>\n    <tr>\n      <th>2017-08-28</th>\n      <td>NaN</td>\n    </tr>\n  </tbody>\n</table>\n</div>"
          },
          "metadata": {}
        }
      ],
      "execution_count": 116
    },
    {
      "cell_type": "code",
      "source": "df['Prev Day Price'] = df['Price'].shift(1)\ndf",
      "metadata": {
        "collapsed": false,
        "jupyter": {
          "outputs_hidden": false
        },
        "trusted": true
      },
      "outputs": [
        {
          "execution_count": 117,
          "output_type": "execute_result",
          "data": {
            "text/plain": "             Price  Prev Day Price\nDate                              \n2017-08-15  171.00             NaN\n2017-08-16  170.00          171.00\n2017-08-17  166.91          170.00\n2017-08-18  167.41          166.91\n2017-08-21  167.78          167.41\n2017-08-22  169.64          167.78\n2017-08-23  168.71          169.64\n2017-08-24  167.74          168.71\n2017-08-25  166.32          167.74\n2017-08-28  167.24          166.32",
            "text/html": "<div>\n<style scoped>\n    .dataframe tbody tr th:only-of-type {\n        vertical-align: middle;\n    }\n\n    .dataframe tbody tr th {\n        vertical-align: top;\n    }\n\n    .dataframe thead th {\n        text-align: right;\n    }\n</style>\n<table border=\"1\" class=\"dataframe\">\n  <thead>\n    <tr style=\"text-align: right;\">\n      <th></th>\n      <th>Price</th>\n      <th>Prev Day Price</th>\n    </tr>\n    <tr>\n      <th>Date</th>\n      <th></th>\n      <th></th>\n    </tr>\n  </thead>\n  <tbody>\n    <tr>\n      <th>2017-08-15</th>\n      <td>171.00</td>\n      <td>NaN</td>\n    </tr>\n    <tr>\n      <th>2017-08-16</th>\n      <td>170.00</td>\n      <td>171.00</td>\n    </tr>\n    <tr>\n      <th>2017-08-17</th>\n      <td>166.91</td>\n      <td>170.00</td>\n    </tr>\n    <tr>\n      <th>2017-08-18</th>\n      <td>167.41</td>\n      <td>166.91</td>\n    </tr>\n    <tr>\n      <th>2017-08-21</th>\n      <td>167.78</td>\n      <td>167.41</td>\n    </tr>\n    <tr>\n      <th>2017-08-22</th>\n      <td>169.64</td>\n      <td>167.78</td>\n    </tr>\n    <tr>\n      <th>2017-08-23</th>\n      <td>168.71</td>\n      <td>169.64</td>\n    </tr>\n    <tr>\n      <th>2017-08-24</th>\n      <td>167.74</td>\n      <td>168.71</td>\n    </tr>\n    <tr>\n      <th>2017-08-25</th>\n      <td>166.32</td>\n      <td>167.74</td>\n    </tr>\n    <tr>\n      <th>2017-08-28</th>\n      <td>167.24</td>\n      <td>166.32</td>\n    </tr>\n  </tbody>\n</table>\n</div>"
          },
          "metadata": {}
        }
      ],
      "execution_count": 117
    },
    {
      "cell_type": "code",
      "source": "df['Price Change'] = df['Price'] - df['Prev Day Price']\ndf",
      "metadata": {
        "collapsed": false,
        "jupyter": {
          "outputs_hidden": false
        },
        "trusted": true
      },
      "outputs": [
        {
          "execution_count": 118,
          "output_type": "execute_result",
          "data": {
            "text/plain": "             Price  Prev Day Price  Price Change\nDate                                            \n2017-08-15  171.00             NaN           NaN\n2017-08-16  170.00          171.00         -1.00\n2017-08-17  166.91          170.00         -3.09\n2017-08-18  167.41          166.91          0.50\n2017-08-21  167.78          167.41          0.37\n2017-08-22  169.64          167.78          1.86\n2017-08-23  168.71          169.64         -0.93\n2017-08-24  167.74          168.71         -0.97\n2017-08-25  166.32          167.74         -1.42\n2017-08-28  167.24          166.32          0.92",
            "text/html": "<div>\n<style scoped>\n    .dataframe tbody tr th:only-of-type {\n        vertical-align: middle;\n    }\n\n    .dataframe tbody tr th {\n        vertical-align: top;\n    }\n\n    .dataframe thead th {\n        text-align: right;\n    }\n</style>\n<table border=\"1\" class=\"dataframe\">\n  <thead>\n    <tr style=\"text-align: right;\">\n      <th></th>\n      <th>Price</th>\n      <th>Prev Day Price</th>\n      <th>Price Change</th>\n    </tr>\n    <tr>\n      <th>Date</th>\n      <th></th>\n      <th></th>\n      <th></th>\n    </tr>\n  </thead>\n  <tbody>\n    <tr>\n      <th>2017-08-15</th>\n      <td>171.00</td>\n      <td>NaN</td>\n      <td>NaN</td>\n    </tr>\n    <tr>\n      <th>2017-08-16</th>\n      <td>170.00</td>\n      <td>171.00</td>\n      <td>-1.00</td>\n    </tr>\n    <tr>\n      <th>2017-08-17</th>\n      <td>166.91</td>\n      <td>170.00</td>\n      <td>-3.09</td>\n    </tr>\n    <tr>\n      <th>2017-08-18</th>\n      <td>167.41</td>\n      <td>166.91</td>\n      <td>0.50</td>\n    </tr>\n    <tr>\n      <th>2017-08-21</th>\n      <td>167.78</td>\n      <td>167.41</td>\n      <td>0.37</td>\n    </tr>\n    <tr>\n      <th>2017-08-22</th>\n      <td>169.64</td>\n      <td>167.78</td>\n      <td>1.86</td>\n    </tr>\n    <tr>\n      <th>2017-08-23</th>\n      <td>168.71</td>\n      <td>169.64</td>\n      <td>-0.93</td>\n    </tr>\n    <tr>\n      <th>2017-08-24</th>\n      <td>167.74</td>\n      <td>168.71</td>\n      <td>-0.97</td>\n    </tr>\n    <tr>\n      <th>2017-08-25</th>\n      <td>166.32</td>\n      <td>167.74</td>\n      <td>-1.42</td>\n    </tr>\n    <tr>\n      <th>2017-08-28</th>\n      <td>167.24</td>\n      <td>166.32</td>\n      <td>0.92</td>\n    </tr>\n  </tbody>\n</table>\n</div>"
          },
          "metadata": {}
        }
      ],
      "execution_count": 118
    },
    {
      "cell_type": "code",
      "source": "df['5 day return on investment'] =  (df['Price'] - df['Price'].shift(5))*100/df['Price'].shift(5)\ndf\n\n\n# ((169.64 - 171)*100)/171 == -0.7953%\n# 169.64 is the fifth value and in original table and 171 is the shifted value after 5 shifts",
      "metadata": {
        "collapsed": false,
        "jupyter": {
          "outputs_hidden": false
        },
        "trusted": true
      },
      "outputs": [
        {
          "execution_count": 119,
          "output_type": "execute_result",
          "data": {
            "text/plain": "             Price  Prev Day Price  Price Change  5 day return on investment\nDate                                                                        \n2017-08-15  171.00             NaN           NaN                         NaN\n2017-08-16  170.00          171.00         -1.00                         NaN\n2017-08-17  166.91          170.00         -3.09                         NaN\n2017-08-18  167.41          166.91          0.50                         NaN\n2017-08-21  167.78          167.41          0.37                         NaN\n2017-08-22  169.64          167.78          1.86                   -0.795322\n2017-08-23  168.71          169.64         -0.93                   -0.758824\n2017-08-24  167.74          168.71         -0.97                    0.497274\n2017-08-25  166.32          167.74         -1.42                   -0.651096\n2017-08-28  167.24          166.32          0.92                   -0.321850",
            "text/html": "<div>\n<style scoped>\n    .dataframe tbody tr th:only-of-type {\n        vertical-align: middle;\n    }\n\n    .dataframe tbody tr th {\n        vertical-align: top;\n    }\n\n    .dataframe thead th {\n        text-align: right;\n    }\n</style>\n<table border=\"1\" class=\"dataframe\">\n  <thead>\n    <tr style=\"text-align: right;\">\n      <th></th>\n      <th>Price</th>\n      <th>Prev Day Price</th>\n      <th>Price Change</th>\n      <th>5 day return on investment</th>\n    </tr>\n    <tr>\n      <th>Date</th>\n      <th></th>\n      <th></th>\n      <th></th>\n      <th></th>\n    </tr>\n  </thead>\n  <tbody>\n    <tr>\n      <th>2017-08-15</th>\n      <td>171.00</td>\n      <td>NaN</td>\n      <td>NaN</td>\n      <td>NaN</td>\n    </tr>\n    <tr>\n      <th>2017-08-16</th>\n      <td>170.00</td>\n      <td>171.00</td>\n      <td>-1.00</td>\n      <td>NaN</td>\n    </tr>\n    <tr>\n      <th>2017-08-17</th>\n      <td>166.91</td>\n      <td>170.00</td>\n      <td>-3.09</td>\n      <td>NaN</td>\n    </tr>\n    <tr>\n      <th>2017-08-18</th>\n      <td>167.41</td>\n      <td>166.91</td>\n      <td>0.50</td>\n      <td>NaN</td>\n    </tr>\n    <tr>\n      <th>2017-08-21</th>\n      <td>167.78</td>\n      <td>167.41</td>\n      <td>0.37</td>\n      <td>NaN</td>\n    </tr>\n    <tr>\n      <th>2017-08-22</th>\n      <td>169.64</td>\n      <td>167.78</td>\n      <td>1.86</td>\n      <td>-0.795322</td>\n    </tr>\n    <tr>\n      <th>2017-08-23</th>\n      <td>168.71</td>\n      <td>169.64</td>\n      <td>-0.93</td>\n      <td>-0.758824</td>\n    </tr>\n    <tr>\n      <th>2017-08-24</th>\n      <td>167.74</td>\n      <td>168.71</td>\n      <td>-0.97</td>\n      <td>0.497274</td>\n    </tr>\n    <tr>\n      <th>2017-08-25</th>\n      <td>166.32</td>\n      <td>167.74</td>\n      <td>-1.42</td>\n      <td>-0.651096</td>\n    </tr>\n    <tr>\n      <th>2017-08-28</th>\n      <td>167.24</td>\n      <td>166.32</td>\n      <td>0.92</td>\n      <td>-0.321850</td>\n    </tr>\n  </tbody>\n</table>\n</div>"
          },
          "metadata": {}
        }
      ],
      "execution_count": 119
    },
    {
      "cell_type": "code",
      "source": "df = df[['Price']]\ndf",
      "metadata": {
        "collapsed": false,
        "jupyter": {
          "outputs_hidden": false
        },
        "trusted": true
      },
      "outputs": [
        {
          "execution_count": 120,
          "output_type": "execute_result",
          "data": {
            "text/plain": "             Price\nDate              \n2017-08-15  171.00\n2017-08-16  170.00\n2017-08-17  166.91\n2017-08-18  167.41\n2017-08-21  167.78\n2017-08-22  169.64\n2017-08-23  168.71\n2017-08-24  167.74\n2017-08-25  166.32\n2017-08-28  167.24",
            "text/html": "<div>\n<style scoped>\n    .dataframe tbody tr th:only-of-type {\n        vertical-align: middle;\n    }\n\n    .dataframe tbody tr th {\n        vertical-align: top;\n    }\n\n    .dataframe thead th {\n        text-align: right;\n    }\n</style>\n<table border=\"1\" class=\"dataframe\">\n  <thead>\n    <tr style=\"text-align: right;\">\n      <th></th>\n      <th>Price</th>\n    </tr>\n    <tr>\n      <th>Date</th>\n      <th></th>\n    </tr>\n  </thead>\n  <tbody>\n    <tr>\n      <th>2017-08-15</th>\n      <td>171.00</td>\n    </tr>\n    <tr>\n      <th>2017-08-16</th>\n      <td>170.00</td>\n    </tr>\n    <tr>\n      <th>2017-08-17</th>\n      <td>166.91</td>\n    </tr>\n    <tr>\n      <th>2017-08-18</th>\n      <td>167.41</td>\n    </tr>\n    <tr>\n      <th>2017-08-21</th>\n      <td>167.78</td>\n    </tr>\n    <tr>\n      <th>2017-08-22</th>\n      <td>169.64</td>\n    </tr>\n    <tr>\n      <th>2017-08-23</th>\n      <td>168.71</td>\n    </tr>\n    <tr>\n      <th>2017-08-24</th>\n      <td>167.74</td>\n    </tr>\n    <tr>\n      <th>2017-08-25</th>\n      <td>166.32</td>\n    </tr>\n    <tr>\n      <th>2017-08-28</th>\n      <td>167.24</td>\n    </tr>\n  </tbody>\n</table>\n</div>"
          },
          "metadata": {}
        }
      ],
      "execution_count": 120
    },
    {
      "cell_type": "markdown",
      "source": "<h2 style=\"color:purple\">tshift</h2>",
      "metadata": {}
    },
    {
      "cell_type": "code",
      "source": "df.index",
      "metadata": {
        "collapsed": false,
        "scrolled": true,
        "jupyter": {
          "outputs_hidden": false
        },
        "trusted": true
      },
      "outputs": [
        {
          "execution_count": 121,
          "output_type": "execute_result",
          "data": {
            "text/plain": "DatetimeIndex(['2017-08-15', '2017-08-16', '2017-08-17', '2017-08-18',\n               '2017-08-21', '2017-08-22', '2017-08-23', '2017-08-24',\n               '2017-08-25', '2017-08-28'],\n              dtype='datetime64[ns]', name='Date', freq=None)"
          },
          "metadata": {}
        }
      ],
      "execution_count": 121
    },
    {
      "cell_type": "code",
      "source": "df.index = pd.date_range(start='2017-08-15',periods=10, freq='B')\ndf\n# If we take suppose 2017-08-22 then it follow the same sequence there will be gap in dates after 4 counts",
      "metadata": {
        "collapsed": false,
        "jupyter": {
          "outputs_hidden": false
        },
        "trusted": true
      },
      "outputs": [
        {
          "execution_count": 143,
          "output_type": "execute_result",
          "data": {
            "text/plain": "             Price\n2017-08-15  171.00\n2017-08-16  170.00\n2017-08-17  166.91\n2017-08-18  167.41\n2017-08-21  167.78\n2017-08-22  169.64\n2017-08-23  168.71\n2017-08-24  167.74\n2017-08-25  166.32\n2017-08-28  167.24",
            "text/html": "<div>\n<style scoped>\n    .dataframe tbody tr th:only-of-type {\n        vertical-align: middle;\n    }\n\n    .dataframe tbody tr th {\n        vertical-align: top;\n    }\n\n    .dataframe thead th {\n        text-align: right;\n    }\n</style>\n<table border=\"1\" class=\"dataframe\">\n  <thead>\n    <tr style=\"text-align: right;\">\n      <th></th>\n      <th>Price</th>\n    </tr>\n  </thead>\n  <tbody>\n    <tr>\n      <th>2017-08-15</th>\n      <td>171.00</td>\n    </tr>\n    <tr>\n      <th>2017-08-16</th>\n      <td>170.00</td>\n    </tr>\n    <tr>\n      <th>2017-08-17</th>\n      <td>166.91</td>\n    </tr>\n    <tr>\n      <th>2017-08-18</th>\n      <td>167.41</td>\n    </tr>\n    <tr>\n      <th>2017-08-21</th>\n      <td>167.78</td>\n    </tr>\n    <tr>\n      <th>2017-08-22</th>\n      <td>169.64</td>\n    </tr>\n    <tr>\n      <th>2017-08-23</th>\n      <td>168.71</td>\n    </tr>\n    <tr>\n      <th>2017-08-24</th>\n      <td>167.74</td>\n    </tr>\n    <tr>\n      <th>2017-08-25</th>\n      <td>166.32</td>\n    </tr>\n    <tr>\n      <th>2017-08-28</th>\n      <td>167.24</td>\n    </tr>\n  </tbody>\n</table>\n</div>"
          },
          "metadata": {}
        }
      ],
      "execution_count": 143
    },
    {
      "cell_type": "code",
      "source": "df.index",
      "metadata": {
        "collapsed": false,
        "scrolled": true,
        "jupyter": {
          "outputs_hidden": false
        },
        "trusted": true
      },
      "outputs": [
        {
          "execution_count": 123,
          "output_type": "execute_result",
          "data": {
            "text/plain": "DatetimeIndex(['2017-08-15', '2017-08-16', '2017-08-17', '2017-08-18',\n               '2017-08-21', '2017-08-22', '2017-08-23', '2017-08-24',\n               '2017-08-25', '2017-08-28'],\n              dtype='datetime64[ns]', freq='B')"
          },
          "metadata": {}
        }
      ],
      "execution_count": 123
    },
    {
      "cell_type": "code",
      "source": "df.shift(2)",
      "metadata": {
        "collapsed": false,
        "jupyter": {
          "outputs_hidden": false
        },
        "trusted": true
      },
      "outputs": [
        {
          "execution_count": 124,
          "output_type": "execute_result",
          "data": {
            "text/plain": "             Price\n2017-08-15     NaN\n2017-08-16     NaN\n2017-08-17  171.00\n2017-08-18  170.00\n2017-08-21  166.91\n2017-08-22  167.41\n2017-08-23  167.78\n2017-08-24  169.64\n2017-08-25  168.71\n2017-08-28  167.74",
            "text/html": "<div>\n<style scoped>\n    .dataframe tbody tr th:only-of-type {\n        vertical-align: middle;\n    }\n\n    .dataframe tbody tr th {\n        vertical-align: top;\n    }\n\n    .dataframe thead th {\n        text-align: right;\n    }\n</style>\n<table border=\"1\" class=\"dataframe\">\n  <thead>\n    <tr style=\"text-align: right;\">\n      <th></th>\n      <th>Price</th>\n    </tr>\n  </thead>\n  <tbody>\n    <tr>\n      <th>2017-08-15</th>\n      <td>NaN</td>\n    </tr>\n    <tr>\n      <th>2017-08-16</th>\n      <td>NaN</td>\n    </tr>\n    <tr>\n      <th>2017-08-17</th>\n      <td>171.00</td>\n    </tr>\n    <tr>\n      <th>2017-08-18</th>\n      <td>170.00</td>\n    </tr>\n    <tr>\n      <th>2017-08-21</th>\n      <td>166.91</td>\n    </tr>\n    <tr>\n      <th>2017-08-22</th>\n      <td>167.41</td>\n    </tr>\n    <tr>\n      <th>2017-08-23</th>\n      <td>167.78</td>\n    </tr>\n    <tr>\n      <th>2017-08-24</th>\n      <td>169.64</td>\n    </tr>\n    <tr>\n      <th>2017-08-25</th>\n      <td>168.71</td>\n    </tr>\n    <tr>\n      <th>2017-08-28</th>\n      <td>167.74</td>\n    </tr>\n  </tbody>\n</table>\n</div>"
          },
          "metadata": {}
        }
      ],
      "execution_count": 124
    },
    {
      "cell_type": "code",
      "source": "",
      "metadata": {
        "trusted": true
      },
      "outputs": [],
      "execution_count": null
    },
    {
      "cell_type": "code",
      "source": "",
      "metadata": {
        "trusted": true
      },
      "outputs": [],
      "execution_count": null
    }
  ]
}