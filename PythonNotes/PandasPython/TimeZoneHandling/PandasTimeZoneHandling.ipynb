{
 "cells": [
  {
   "cell_type": "code",
   "execution_count": 1,
   "metadata": {
    "trusted": true
   },
   "outputs": [
    {
     "name": "stdout",
     "output_type": "stream",
     "text": [
      "Naive Datetime Series:\n",
      "0   2024-01-01\n",
      "1   2024-01-02\n",
      "2   2024-01-03\n",
      "dtype: datetime64[ns]\n",
      "\n",
      "Timezone-Aware Datetime Series (UTC):\n",
      "0   2024-01-01 00:00:00+00:00\n",
      "1   2024-01-02 00:00:00+00:00\n",
      "2   2024-01-03 00:00:00+00:00\n",
      "dtype: datetime64[ns, UTC]\n"
     ]
    }
   ],
   "source": [
    "import pandas as pd\n",
    "\n",
    "# Create a timezone-naive datetime series\n",
    "date_naive = pd.Series(pd.date_range(\"2024-01-01\", periods=3, freq=\"D\"))\n",
    "print(\"Naive Datetime Series:\")\n",
    "print(date_naive)\n",
    "\n",
    "# Convert the naive datetime to a timezone-aware datetime (e.g., UTC)\n",
    "date_utc = date_naive.dt.tz_localize('UTC')\n",
    "print(\"\\nTimezone-Aware Datetime Series (UTC):\")\n",
    "print(date_utc)"
   ]
  },
  {
   "cell_type": "code",
   "execution_count": 2,
   "metadata": {
    "trusted": true
   },
   "outputs": [
    {
     "name": "stdout",
     "output_type": "stream",
     "text": [
      "\n",
      "Timezone-Aware Datetime Series (US/Eastern):\n",
      "0   2023-12-31 19:00:00-05:00\n",
      "1   2024-01-01 19:00:00-05:00\n",
      "2   2024-01-02 19:00:00-05:00\n",
      "dtype: datetime64[ns, US/Eastern]\n"
     ]
    }
   ],
   "source": [
    "# Convert the UTC datetime series to 'US/Eastern'\n",
    "date_eastern = date_utc.dt.tz_convert('US/Eastern')\n",
    "print(\"\\nTimezone-Aware Datetime Series (US/Eastern):\")\n",
    "print(date_eastern)\n",
    "\n",
    "# 2024-01-01 00:00:00+00:00 means it's midnight on January 1st, 2024, in UTC.\n",
    "# The US Eastern Time Zone can be in:\n",
    "\n",
    "# Eastern Standard Time (EST): UTC - 5 hours (during the winter months).\n",
    "# Eastern Daylight Time (EDT): UTC - 4 hours (during the summer months when daylight saving time is in effect).\n"
   ]
  },
  {
   "cell_type": "code",
   "execution_count": 3,
   "metadata": {
    "trusted": true
   },
   "outputs": [
    {
     "name": "stdout",
     "output_type": "stream",
     "text": [
      "Error: cannot add DatetimeArray and DatetimeArray\n"
     ]
    }
   ],
   "source": [
    "# This will raise an error because you can't mix naive and aware datetime objects\n",
    "try:\n",
    "    mixed_datetime = date_naive + date_utc\n",
    "except Exception as e:\n",
    "    print(f\"Error: {e}\")\n"
   ]
  },
  {
   "cell_type": "code",
   "execution_count": 4,
   "metadata": {
    "trusted": true
   },
   "outputs": [
    {
     "name": "stdout",
     "output_type": "stream",
     "text": [
      "\n",
      "Datetime with timezone information:\n",
      "2024-01-01 12:00:00-05:00\n"
     ]
    }
   ],
   "source": [
    "# String with timezone information\n",
    "date_str = \"2024-01-01 12:00:00-05:00\"\n",
    "\n",
    "# Convert string with timezone info into datetime\n",
    "date_with_tz = pd.to_datetime(date_str)\n",
    "print(\"\\nDatetime with timezone information:\")\n",
    "print(date_with_tz)\n"
   ]
  },
  {
   "cell_type": "code",
   "execution_count": 5,
   "metadata": {
    "trusted": true
   },
   "outputs": [
    {
     "name": "stdout",
     "output_type": "stream",
     "text": [
      "DataFrame with Naive Dates:\n",
      "       dates\n",
      "0 2024-01-01\n",
      "1 2024-01-02\n",
      "2 2024-01-03\n",
      "\n",
      "DataFrame with UTC Timezone:\n",
      "       dates                 dates_utc\n",
      "0 2024-01-01 2024-01-01 00:00:00+00:00\n",
      "1 2024-01-02 2024-01-02 00:00:00+00:00\n",
      "2 2024-01-03 2024-01-03 00:00:00+00:00\n",
      "\n",
      "DataFrame with Eastern Timezone:\n",
      "       dates                 dates_utc             dates_eastern\n",
      "0 2024-01-01 2024-01-01 00:00:00+00:00 2023-12-31 19:00:00-05:00\n",
      "1 2024-01-02 2024-01-02 00:00:00+00:00 2024-01-01 19:00:00-05:00\n",
      "2 2024-01-03 2024-01-03 00:00:00+00:00 2024-01-02 19:00:00-05:00\n"
     ]
    }
   ],
   "source": [
    "# Create a DataFrame with naive datetime\n",
    "df = pd.DataFrame({\n",
    "    'dates': pd.date_range(\"2024-01-01\", periods=3, freq=\"D\")\n",
    "})\n",
    "print(\"DataFrame with Naive Dates:\")\n",
    "print(df)\n",
    "\n",
    "# Localize to 'UTC'\n",
    "df['dates_utc'] = df['dates'].dt.tz_localize('UTC')\n",
    "print(\"\\nDataFrame with UTC Timezone:\")\n",
    "print(df)\n",
    "\n",
    "# Convert to 'US/Eastern'\n",
    "df['dates_eastern'] = df['dates_utc'].dt.tz_convert('US/Eastern')\n",
    "print(\"\\nDataFrame with Eastern Timezone:\")\n",
    "print(df)"
   ]
  },
  {
   "cell_type": "code",
   "execution_count": 6,
   "metadata": {
    "trusted": true
   },
   "outputs": [
    {
     "name": "stdout",
     "output_type": "stream",
     "text": [
      "\n",
      "Naive Date Series spanning DST transition:\n",
      "0   2024-03-08\n",
      "1   2024-03-09\n",
      "2   2024-03-10\n",
      "dtype: datetime64[ns]\n",
      "\n",
      "Timezone-Aware Date Series (US/Eastern with DST):\n",
      "0   2024-03-08 00:00:00-05:00\n",
      "1   2024-03-09 00:00:00-05:00\n",
      "2   2024-03-10 00:00:00-05:00\n",
      "dtype: datetime64[ns, US/Eastern]\n"
     ]
    }
   ],
   "source": [
    "# Create a date that spans the DST transition\n",
    "dates_during_dst = pd.Series(pd.date_range(\"2024-03-08\", periods=3, freq=\"D\"))\n",
    "print(\"\\nNaive Date Series spanning DST transition:\")\n",
    "print(dates_during_dst)\n",
    "\n",
    "# Localize to 'US/Eastern' (with DST consideration)\n",
    "dates_dst = dates_during_dst.dt.tz_localize('US/Eastern')\n",
    "print(\"\\nTimezone-Aware Date Series (US/Eastern with DST):\")\n",
    "print(dates_dst)\n",
    "\n",
    "# date_eastern = date_utc.dt.tz_convert('US/Eastern')"
   ]
  },
  {
   "cell_type": "code",
   "execution_count": 7,
   "metadata": {
    "trusted": true
   },
   "outputs": [
    {
     "name": "stdout",
     "output_type": "stream",
     "text": [
      "\n",
      "Datetime after Removing Timezone (Back to Naive):\n",
      "0   2024-01-01\n",
      "1   2024-01-02\n",
      "2   2024-01-03\n",
      "dtype: datetime64[ns]\n"
     ]
    }
   ],
   "source": [
    "# Remove timezone information (making it naive)\n",
    "date_naive_again = date_utc.dt.tz_localize(None)\n",
    "print(\"\\nDatetime after Removing Timezone (Back to Naive):\")\n",
    "print(date_naive_again)"
   ]
  },
  {
   "cell_type": "code",
   "execution_count": null,
   "metadata": {
    "trusted": true
   },
   "outputs": [],
   "source": []
  }
 ],
 "metadata": {
  "kernelspec": {
   "display_name": "Python (Pyodide)",
   "language": "python",
   "name": "python"
  },
  "language_info": {
   "codemirror_mode": {
    "name": "python",
    "version": 3
   },
   "file_extension": ".py",
   "mimetype": "text/x-python",
   "name": "python",
   "nbconvert_exporter": "python",
   "pygments_lexer": "ipython3",
   "version": "3.8"
  }
 },
 "nbformat": 4,
 "nbformat_minor": 4
}
