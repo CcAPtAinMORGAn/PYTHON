{
  "metadata": {
    "kernelspec": {
      "name": "python",
      "display_name": "Python (Pyodide)",
      "language": "python"
    },
    "language_info": {
      "codemirror_mode": {
        "name": "python",
        "version": 3
      },
      "file_extension": ".py",
      "mimetype": "text/x-python",
      "name": "python",
      "nbconvert_exporter": "python",
      "pygments_lexer": "ipython3",
      "version": "3.8"
    }
  },
  "nbformat_minor": 4,
  "nbformat": 4,
  "cells": [
    {
      "cell_type": "code",
      "source": "import pandas as pd\n\n# Create a timezone-naive datetime series\ndate_naive = pd.Series(pd.date_range(\"2024-01-01\", periods=3, freq=\"D\"))\nprint(\"Naive Datetime Series:\")\nprint(date_naive)\n\n# Convert the naive datetime to a timezone-aware datetime (e.g., UTC)\ndate_utc = date_naive.dt.tz_localize('UTC')\nprint(\"\\nTimezone-Aware Datetime Series (UTC):\")\nprint(date_utc)",
      "metadata": {
        "trusted": true
      },
      "outputs": [
        {
          "name": "stdout",
          "text": "Naive Datetime Series:\n0   2024-01-01\n1   2024-01-02\n2   2024-01-03\ndtype: datetime64[ns]\n\nTimezone-Aware Datetime Series (UTC):\n0   2024-01-01 00:00:00+00:00\n1   2024-01-02 00:00:00+00:00\n2   2024-01-03 00:00:00+00:00\ndtype: datetime64[ns, UTC]\n",
          "output_type": "stream"
        }
      ],
      "execution_count": 15
    },
    {
      "cell_type": "code",
      "source": "# Convert the UTC datetime series to 'US/Eastern'\ndate_eastern = date_utc.dt.tz_convert('US/Eastern')\nprint(\"\\nTimezone-Aware Datetime Series (US/Eastern):\")\nprint(date_eastern)\n\n# 2024-01-01 00:00:00+00:00 means it's midnight on January 1st, 2024, in UTC.\n# The US Eastern Time Zone can be in:\n\n# Eastern Standard Time (EST): UTC - 5 hours (during the winter months).\n# Eastern Daylight Time (EDT): UTC - 4 hours (during the summer months when daylight saving time is in effect).\n",
      "metadata": {
        "trusted": true
      },
      "outputs": [
        {
          "name": "stdout",
          "text": "\nTimezone-Aware Datetime Series (US/Eastern):\n0   2023-12-31 19:00:00-05:00\n1   2024-01-01 19:00:00-05:00\n2   2024-01-02 19:00:00-05:00\ndtype: datetime64[ns, US/Eastern]\n",
          "output_type": "stream"
        }
      ],
      "execution_count": 16
    },
    {
      "cell_type": "code",
      "source": "# This will raise an error because you can't mix naive and aware datetime objects\ntry:\n    mixed_datetime = date_naive + date_utc\nexcept Exception as e:\n    print(f\"Error: {e}\")\n",
      "metadata": {
        "trusted": true
      },
      "outputs": [
        {
          "name": "stdout",
          "text": "Error: cannot add DatetimeArray and DatetimeArray\n",
          "output_type": "stream"
        }
      ],
      "execution_count": 17
    },
    {
      "cell_type": "code",
      "source": "# String with timezone information\ndate_str = \"2024-01-01 12:00:00-05:00\"\n\n# Convert string with timezone info into datetime\ndate_with_tz = pd.to_datetime(date_str)\nprint(\"\\nDatetime with timezone information:\")\nprint(date_with_tz)\n",
      "metadata": {
        "trusted": true
      },
      "outputs": [
        {
          "name": "stdout",
          "text": "\nDatetime with timezone information:\n2024-01-01 12:00:00-05:00\n",
          "output_type": "stream"
        }
      ],
      "execution_count": 18
    },
    {
      "cell_type": "code",
      "source": "# Create a DataFrame with naive datetime\ndf = pd.DataFrame({\n    'dates': pd.date_range(\"2024-01-01\", periods=3, freq=\"D\")\n})\nprint(\"DataFrame with Naive Dates:\")\nprint(df)\n\n# Localize to 'UTC'\ndf['dates_utc'] = df['dates'].dt.tz_localize('UTC')\nprint(\"\\nDataFrame with UTC Timezone:\")\nprint(df)\n\n# Convert to 'US/Eastern'\ndf['dates_eastern'] = df['dates_utc'].dt.tz_convert('US/Eastern')\nprint(\"\\nDataFrame with Eastern Timezone:\")\nprint(df)",
      "metadata": {
        "trusted": true
      },
      "outputs": [
        {
          "name": "stdout",
          "text": "DataFrame with Naive Dates:\n       dates\n0 2024-01-01\n1 2024-01-02\n2 2024-01-03\n\nDataFrame with UTC Timezone:\n       dates                 dates_utc\n0 2024-01-01 2024-01-01 00:00:00+00:00\n1 2024-01-02 2024-01-02 00:00:00+00:00\n2 2024-01-03 2024-01-03 00:00:00+00:00\n\nDataFrame with Eastern Timezone:\n       dates                 dates_utc             dates_eastern\n0 2024-01-01 2024-01-01 00:00:00+00:00 2023-12-31 19:00:00-05:00\n1 2024-01-02 2024-01-02 00:00:00+00:00 2024-01-01 19:00:00-05:00\n2 2024-01-03 2024-01-03 00:00:00+00:00 2024-01-02 19:00:00-05:00\n",
          "output_type": "stream"
        }
      ],
      "execution_count": 22
    },
    {
      "cell_type": "code",
      "source": "# Create a date that spans the DST transition\ndates_during_dst = pd.Series(pd.date_range(\"2024-03-08\", periods=3, freq=\"D\"))\nprint(\"\\nNaive Date Series spanning DST transition:\")\nprint(dates_during_dst)\n\n# Localize to 'US/Eastern' (with DST consideration)\ndates_dst = dates_during_dst.dt.tz_localize('US/Eastern')\nprint(\"\\nTimezone-Aware Date Series (US/Eastern with DST):\")\nprint(dates_dst)\n\n# date_eastern = date_utc.dt.tz_convert('US/Eastern')",
      "metadata": {
        "trusted": true
      },
      "outputs": [
        {
          "name": "stdout",
          "text": "\nNaive Date Series spanning DST transition:\n0   2024-03-08\n1   2024-03-09\n2   2024-03-10\ndtype: datetime64[ns]\n\nTimezone-Aware Date Series (US/Eastern with DST):\n0   2024-03-08 00:00:00-05:00\n1   2024-03-09 00:00:00-05:00\n2   2024-03-10 00:00:00-05:00\ndtype: datetime64[ns, US/Eastern]\n",
          "output_type": "stream"
        }
      ],
      "execution_count": 39
    },
    {
      "cell_type": "code",
      "source": "# Remove timezone information (making it naive)\ndate_naive_again = date_utc.dt.tz_localize(None)\nprint(\"\\nDatetime after Removing Timezone (Back to Naive):\")\nprint(date_naive_again)",
      "metadata": {
        "trusted": true
      },
      "outputs": [
        {
          "name": "stdout",
          "text": "\nDatetime after Removing Timezone (Back to Naive):\n0   2024-01-01\n1   2024-01-02\n2   2024-01-03\ndtype: datetime64[ns]\n",
          "output_type": "stream"
        }
      ],
      "execution_count": 38
    },
    {
      "cell_type": "code",
      "source": "",
      "metadata": {
        "trusted": true
      },
      "outputs": [],
      "execution_count": null
    }
  ]
}