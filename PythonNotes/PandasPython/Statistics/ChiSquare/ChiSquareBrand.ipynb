{
 "cells": [
  {
   "cell_type": "code",
   "execution_count": 1,
   "metadata": {},
   "outputs": [
    {
     "name": "stdout",
     "output_type": "stream",
     "text": [
      "Contingency Table with Totals:\n",
      "Gender  BrandA  BrandB  Total\n",
      "Male        30      20     50\n",
      "Female      40      10     50\n",
      "Total       70      30    100\n",
      "\n",
      "Chi-square Statistic: 3.8571428571428577\n",
      "Degrees of Freedom: 1\n",
      "P-value: 0.04953461343562649\n",
      "Expected Frequencies:\n",
      "[[35. 15.]\n",
      " [35. 15.]]\n",
      "\n",
      "Decision at 5% significance level:\n",
      "Reject the null hypothesis (H0). There is a significant association between Gender and Brand preference.\n"
     ]
    }
   ],
   "source": [
    "# !pip install statsmodels\n",
    "import pandas as pd\n",
    "import scipy.stats as stats\n",
    "\n",
    "# Create the DataFrame\n",
    "data = {\n",
    "    \"Gender\": [\"BrandA\", \"BrandB\"],\n",
    "    \"Male\": [30, 20],\n",
    "    \"Female\": [40, 10]\n",
    "}\n",
    "\n",
    "df = pd.DataFrame(data)\n",
    "\n",
    "# Create a contingency table\n",
    "contingency_table = df.set_index('Gender').T\n",
    "\n",
    "# Calculate row and column totals\n",
    "contingency_table['Total'] = contingency_table.sum(axis=1)  # Horizontal total\n",
    "contingency_table.loc['Total'] = contingency_table.sum(axis=0)  # Vertical total\n",
    "\n",
    "print(\"Contingency Table with Totals:\")\n",
    "print(contingency_table)\n",
    "\n",
    "# Perform the chi-square test (excluding the total row and column)\n",
    "chi2_stat, p_value, dof, expected = stats.chi2_contingency(contingency_table.iloc[:-1, :-1])\n",
    "\n",
    "# Print the results\n",
    "print(\"\\nChi-square Statistic:\", chi2_stat)\n",
    "print(\"Degrees of Freedom:\", dof)\n",
    "print(\"P-value:\", p_value)\n",
    "print(\"Expected Frequencies:\")\n",
    "print(expected)\n",
    "\n",
    "# Set significance level\n",
    "alpha = 0.05\n",
    "\n",
    "# Decision based on the p-value\n",
    "if p_value <= alpha:\n",
    "    decision = \"Reject the null hypothesis (H0). There is a significant association between Gender and Brand preference.\"\n",
    "else:\n",
    "    decision = \"Fail to reject the null hypothesis (H0). There is no significant association between Gender and Brand preference.\"\n",
    "\n",
    "print(\"\\nDecision at 5% significance level:\")\n",
    "print(decision)\n"
   ]
  },
  {
   "cell_type": "code",
   "execution_count": null,
   "metadata": {},
   "outputs": [],
   "source": []
  }
 ],
 "metadata": {
  "kernelspec": {
   "display_name": "Python 3",
   "language": "python",
   "name": "python3"
  },
  "language_info": {
   "codemirror_mode": {
    "name": "ipython",
    "version": 3
   },
   "file_extension": ".py",
   "mimetype": "text/x-python",
   "name": "python",
   "nbconvert_exporter": "python",
   "pygments_lexer": "ipython3",
   "version": "3.12.1"
  }
 },
 "nbformat": 4,
 "nbformat_minor": 2
}
