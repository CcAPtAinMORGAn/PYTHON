{
 "cells": [
  {
   "cell_type": "code",
   "execution_count": 1,
   "metadata": {},
   "outputs": [
    {
     "name": "stdout",
     "output_type": "stream",
     "text": [
      "Requirement already satisfied: statsmodels in /usr/local/python/3.12.1/lib/python3.12/site-packages (0.14.4)\n",
      "Requirement already satisfied: numpy<3,>=1.22.3 in /home/codespace/.local/lib/python3.12/site-packages (from statsmodels) (2.1.1)\n",
      "Requirement already satisfied: scipy!=1.9.2,>=1.8 in /home/codespace/.local/lib/python3.12/site-packages (from statsmodels) (1.14.1)\n",
      "Requirement already satisfied: pandas!=2.1.0,>=1.4 in /home/codespace/.local/lib/python3.12/site-packages (from statsmodels) (2.2.3)\n",
      "Requirement already satisfied: patsy>=0.5.6 in /usr/local/python/3.12.1/lib/python3.12/site-packages (from statsmodels) (0.5.6)\n",
      "Requirement already satisfied: packaging>=21.3 in /home/codespace/.local/lib/python3.12/site-packages (from statsmodels) (24.1)\n",
      "Requirement already satisfied: python-dateutil>=2.8.2 in /home/codespace/.local/lib/python3.12/site-packages (from pandas!=2.1.0,>=1.4->statsmodels) (2.9.0.post0)\n",
      "Requirement already satisfied: pytz>=2020.1 in /home/codespace/.local/lib/python3.12/site-packages (from pandas!=2.1.0,>=1.4->statsmodels) (2024.2)\n",
      "Requirement already satisfied: tzdata>=2022.7 in /home/codespace/.local/lib/python3.12/site-packages (from pandas!=2.1.0,>=1.4->statsmodels) (2024.2)\n",
      "Requirement already satisfied: six in /home/codespace/.local/lib/python3.12/site-packages (from patsy>=0.5.6->statsmodels) (1.16.0)\n",
      "Contingency Table with Totals:\n",
      "Gender  Male  Female  Total\n",
      "BrandA    30      40     70\n",
      "BrandB    20      10     30\n",
      "Total     50      50    100\n",
      "\n",
      "Chi-square Statistic: 3.857142857142857\n",
      "Degrees of Freedom: 1\n",
      "P-value: 0.04953461343562649\n",
      "Expected Frequencies:\n",
      "[[35. 35.]\n",
      " [15. 15.]]\n",
      "\n",
      "Decision at 5% significance level:\n",
      "Reject the null hypothesis (H0). There is a significant association between Gender and Brand preference.\n"
     ]
    }
   ],
   "source": [
    "# !pip install statsmodels\n",
    "import pandas as pd\n",
    "import scipy.stats as stats\n",
    "\n",
    "# Create the DataFrame\n",
    "data = {\n",
    "    \"Gender\": [\"Male\", \"Female\"],\n",
    "    \"BrandA\": [30, 40],\n",
    "    \"BrandB\": [20, 10]\n",
    "}\n",
    "\n",
    "df = pd.DataFrame(data)\n",
    "\n",
    "# Create a contingency table\n",
    "contingency_table = df.set_index('Gender').T\n",
    "\n",
    "# Calculate row and column totals\n",
    "contingency_table['Total'] = contingency_table.sum(axis=1)  # Horizontal total\n",
    "contingency_table.loc['Total'] = contingency_table.sum(axis=0)  # Vertical total\n",
    "\n",
    "print(\"Contingency Table with Totals:\")\n",
    "print(contingency_table)\n",
    "\n",
    "# Perform the chi-square test (excluding the total row and column)\n",
    "chi2_stat, p_value, dof, expected = stats.chi2_contingency(contingency_table.iloc[:-1, :-1])\n",
    "\n",
    "# Print the results\n",
    "print(\"\\nChi-square Statistic:\", chi2_stat)\n",
    "print(\"Degrees of Freedom:\", dof)\n",
    "print(\"P-value:\", p_value)\n",
    "print(\"Expected Frequencies:\")\n",
    "print(expected)\n",
    "\n",
    "# Set significance level\n",
    "alpha = 0.05\n",
    "\n",
    "# Decision based on the p-value\n",
    "if p_value <= alpha:\n",
    "    decision = \"Reject the null hypothesis (H0). There is a significant association between Gender and Brand preference.\"\n",
    "else:\n",
    "    decision = \"Fail to reject the null hypothesis (H0). There is no significant association between Gender and Brand preference.\"\n",
    "\n",
    "print(\"\\nDecision at 5% significance level:\")\n",
    "print(decision)\n"
   ]
  },
  {
   "cell_type": "code",
   "execution_count": null,
   "metadata": {},
   "outputs": [],
   "source": []
  }
 ],
 "metadata": {
  "kernelspec": {
   "display_name": "Python 3",
   "language": "python",
   "name": "python3"
  },
  "language_info": {
   "codemirror_mode": {
    "name": "ipython",
    "version": 3
   },
   "file_extension": ".py",
   "mimetype": "text/x-python",
   "name": "python",
   "nbconvert_exporter": "python",
   "pygments_lexer": "ipython3",
   "version": "3.12.1"
  }
 },
 "nbformat": 4,
 "nbformat_minor": 2
}
