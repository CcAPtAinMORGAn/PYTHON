{
 "cells": [
  {
   "cell_type": "code",
   "execution_count": 1,
   "metadata": {},
   "outputs": [
    {
     "name": "stdout",
     "output_type": "stream",
     "text": [
      "       Flavor  Male  Female  Total\n",
      "0   Chocolate    30      20     50\n",
      "1     Vanilla    25      15     40\n",
      "2  Strawberry    10      10     20\n",
      "Chi-square statistic: 0.893162393162393\n",
      "Degrees of freedom: 10\n",
      "P-value: 0.999897769917643\n"
     ]
    }
   ],
   "source": [
    "!pip install statsmodels\n",
    "import pandas as pd\n",
    "import statsmodels.api as sm\n",
    "import scipy.stats as stats  # Import the stats module for chi-square\n",
    "\n",
    "data = {\n",
    "    \"Flavor\": [\"Chocolate\", \"Vanilla\", \"Strawberry\"],\n",
    "    \"Male\": [30, 25, 10],\n",
    "    \"Female\": [20, 15, 10]\n",
    "}\n",
    "\n",
    "# Create a DataFrame from the dictionary\n",
    "df = pd.DataFrame(data)\n",
    "\n",
    "# Add a total column\n",
    "df[\"Total\"] = df[\"Male\"] + df[\"Female\"]\n",
    "\n",
    "# Print the DataFrame\n",
    "print(df)\n",
    "\n",
    "# Calculate the expected frequencies\n",
    "df[\"Expected_Male\"] = (df[\"Total\"] * df[\"Male\"].sum()) / df[\"Total\"].sum()\n",
    "df[\"Expected_Female\"] = (df[\"Total\"] * df[\"Female\"].sum()) / df[\"Total\"].sum()\n",
    "\n",
    "# Calculate the chi-square statistic\n",
    "chi2_stat = ((df[\"Male\"] - df[\"Expected_Male\"])**2 / df[\"Expected_Male\"] +\n",
    "             (df[\"Female\"] - df[\"Expected_Female\"])**2 / df[\"Expected_Female\"]).sum()\n",
    "\n",
    "# Calculate degrees of freedom\n",
    "df_rows, df_cols = df.shape\n",
    "degrees_of_freedom = (df_rows - 1) * (df_cols - 1)\n",
    "\n",
    "# Find the p-value\n",
    "p_value = stats.chi2.sf(chi2_stat, degrees_of_freedom)\n",
    "\n",
    "print(\"Chi-square statistic:\", chi2_stat)\n",
    "print(\"Degrees of freedom:\", degrees_of_freedom)\n",
    "print(\"P-value:\", p_value)\n"
   ]
  }
 ],
 "metadata": {
  "kernelspec": {
   "display_name": "Python 3",
   "language": "python",
   "name": "python3"
  },
  "language_info": {
   "codemirror_mode": {
    "name": "ipython",
    "version": 3
   },
   "file_extension": ".py",
   "mimetype": "text/x-python",
   "name": "python",
   "nbconvert_exporter": "python",
   "pygments_lexer": "ipython3",
   "version": "3.12.1"
  }
 },
 "nbformat": 4,
 "nbformat_minor": 2
}
