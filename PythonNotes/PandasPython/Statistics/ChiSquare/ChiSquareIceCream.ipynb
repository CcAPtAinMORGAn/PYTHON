{
 "cells": [
  {
   "cell_type": "code",
   "execution_count": 1,
   "metadata": {},
   "outputs": [
    {
     "name": "stdout",
     "output_type": "stream",
     "text": [
      "Contingency Table with Totals:\n",
      "Flavour     Male  Female  Total\n",
      "Chocolate     30      20     50\n",
      "Vanilla       25      15     40\n",
      "Strawberry    10      10     20\n",
      "Total         65      45    110\n",
      "\n",
      "Chi-square Statistic: 0.8931623931623931\n",
      "Degrees of Freedom: 2\n",
      "P-value: 0.6398118075447107\n",
      "Expected Frequencies:\n",
      "[[29.54545455 20.45454545]\n",
      " [23.63636364 16.36363636]\n",
      " [11.81818182  8.18181818]]\n",
      "\n",
      "Decision at 5% significance level:\n",
      "Null hypothesis is accepted (H0).\n"
     ]
    }
   ],
   "source": [
    "# !pip install statsmodels\n",
    "import pandas as pd\n",
    "import scipy.stats as stats\n",
    "\n",
    "# Create the DataFrame\n",
    "data = {\n",
    "    \"Flavour\": [\"Male\", \"Female\"],\n",
    "    \"Chocolate\": [30, 20],\n",
    "    \"Vanilla\": [25, 15],\n",
    "    \"Strawberry\": [10, 10]\n",
    "}\n",
    "\n",
    "df = pd.DataFrame(data)\n",
    "\n",
    "# Create a contingency table\n",
    "contingency_table = df.set_index('Flavour').T\n",
    "\n",
    "# Calculate row and column totals\n",
    "contingency_table['Total'] = contingency_table.sum(axis=1)  # Horizontal total\n",
    "contingency_table.loc['Total'] = contingency_table.sum(axis=0)  # Vertical total\n",
    "\n",
    "print(\"Contingency Table with Totals:\")\n",
    "print(contingency_table)\n",
    "\n",
    "# Perform the chi-square test (excluding the total row and column)\n",
    "chi2_stat, p_value, dof, expected = stats.chi2_contingency(contingency_table.iloc[:-1, :-1])\n",
    "\n",
    "# Print the results\n",
    "print(\"\\nChi-square Statistic:\", chi2_stat)\n",
    "print(\"Degrees of Freedom:\", dof)\n",
    "print(\"P-value:\", p_value)\n",
    "print(\"Expected Frequencies:\")\n",
    "print(expected)\n",
    "\n",
    "# Set significance level\n",
    "LevelOfSignificance = 0.05\n",
    "\n",
    "# Decision based on the p-value\n",
    "if p_value <= LevelOfSignificance:\n",
    "    decision = \"Null hypothesis is rejected (H0).\"\n",
    "else:\n",
    "    decision = \"Null hypothesis is accepted (H0).\"\n",
    "\n",
    "print(\"\\nDecision at 5% significance level:\")\n",
    "print(decision)\n"
   ]
  }
 ],
 "metadata": {
  "kernelspec": {
   "display_name": "Python 3",
   "language": "python",
   "name": "python3"
  },
  "language_info": {
   "codemirror_mode": {
    "name": "ipython",
    "version": 3
   },
   "file_extension": ".py",
   "mimetype": "text/x-python",
   "name": "python",
   "nbconvert_exporter": "python",
   "pygments_lexer": "ipython3",
   "version": "3.12.1"
  }
 },
 "nbformat": 4,
 "nbformat_minor": 2
}
